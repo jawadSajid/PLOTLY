{
 "cells": [
  {
   "cell_type": "code",
   "execution_count": 2,
   "metadata": {},
   "outputs": [
    {
     "data": {
      "text/html": [
       "        <script type=\"text/javascript\">\n",
       "        window.PlotlyConfig = {MathJaxConfig: 'local'};\n",
       "        if (window.MathJax) {MathJax.Hub.Config({SVG: {font: \"STIX-Web\"}});}\n",
       "        if (typeof require !== 'undefined') {\n",
       "        require.undef(\"plotly\");\n",
       "        requirejs.config({\n",
       "            paths: {\n",
       "                'plotly': ['https://cdn.plot.ly/plotly-latest.min']\n",
       "            }\n",
       "        });\n",
       "        require(['plotly'], function(Plotly) {\n",
       "            window._Plotly = Plotly;\n",
       "        });\n",
       "        }\n",
       "        </script>\n",
       "        "
      ]
     },
     "metadata": {},
     "output_type": "display_data"
    }
   ],
   "source": [
    "# import plotly.plotly as py\n",
    "import plotly.graph_objs as go\n",
    "import numpy as np\n",
    "import plotly.offline as offline\n",
    "\n",
    "offline.init_notebook_mode(connected=True)"
   ]
  },
  {
   "cell_type": "markdown",
   "metadata": {},
   "source": [
    "#### Create a list of 200 random numbers"
   ]
  },
  {
   "cell_type": "code",
   "execution_count": 3,
   "metadata": {},
   "outputs": [],
   "source": [
    "random_numbers = np.random.randn(200)"
   ]
  },
  {
   "cell_type": "markdown",
   "metadata": {},
   "source": [
    "#### Produce a histogram to plot the distribution of these numbers\n",
    "We assign this list to the axis on which we want the bars to be placed. The frequency will be displayed on the other axis. "
   ]
  },
  {
   "cell_type": "code",
   "execution_count": 4,
   "metadata": {},
   "outputs": [],
   "source": [
    "hist = go.Histogram(x = random_numbers)"
   ]
  },
  {
   "cell_type": "markdown",
   "metadata": {},
   "source": [
    "#### Generate the histogram plot"
   ]
  },
  {
   "cell_type": "code",
   "execution_count": 5,
   "metadata": {},
   "outputs": [
    {
     "data": {
      "text/plain": [
       "'temp-plot.html'"
      ]
     },
     "execution_count": 5,
     "metadata": {},
     "output_type": "execute_result"
    }
   ],
   "source": [
    "data = [hist]\n",
    "\n",
    "offline.plot(data)"
   ]
  },
  {
   "cell_type": "markdown",
   "metadata": {},
   "source": [
    "#### Normalized Histogram\n",
    "Rather than raw numbers, this will display the probability of the occurence of a value in a bin. The shape will be exactly the same as the previous histogram, but the Y axis will denote the probability rather than the raw frequency."
   ]
  },
  {
   "cell_type": "code",
   "execution_count": 6,
   "metadata": {},
   "outputs": [],
   "source": [
    "hist = go.Histogram(x = random_numbers,\n",
    "                     histnorm = 'probability'\n",
    "                    )"
   ]
  },
  {
   "cell_type": "code",
   "execution_count": 7,
   "metadata": {},
   "outputs": [
    {
     "data": {
      "text/plain": [
       "'temp-plot.html'"
      ]
     },
     "execution_count": 7,
     "metadata": {},
     "output_type": "execute_result"
    }
   ],
   "source": [
    "data = [hist]\n",
    "\n",
    "offline.plot(data)"
   ]
  },
  {
   "cell_type": "markdown",
   "metadata": {},
   "source": [
    "#### Plotting a cumulative histogram\n",
    "In such a histogram, a bin gives not just the counts for a single bin, but rather gives the counts for that bin plus all bins for smaller values of the response variable."
   ]
  },
  {
   "cell_type": "code",
   "execution_count": 8,
   "metadata": {},
   "outputs": [],
   "source": [
    "hist = go.Histogram(x = random_numbers,\n",
    "                    \n",
    "                    cumulative = dict(enabled=True)\n",
    "                    )"
   ]
  },
  {
   "cell_type": "code",
   "execution_count": 9,
   "metadata": {},
   "outputs": [
    {
     "data": {
      "text/plain": [
       "'temp-plot.html'"
      ]
     },
     "execution_count": 9,
     "metadata": {},
     "output_type": "execute_result"
    }
   ],
   "source": [
    "data = [hist]\n",
    "\n",
    "offline.plot(data)"
   ]
  },
  {
   "cell_type": "markdown",
   "metadata": {},
   "source": [
    "#### Horizontal Histogram\n",
    "A histogram can also be oriented horizontally. This is done by merely flipping the axis along which the bins should be rooted."
   ]
  },
  {
   "cell_type": "code",
   "execution_count": 10,
   "metadata": {},
   "outputs": [],
   "source": [
    "hist = go.Histogram(y = random_numbers)"
   ]
  },
  {
   "cell_type": "code",
   "execution_count": 11,
   "metadata": {},
   "outputs": [
    {
     "data": {
      "text/plain": [
       "'temp-plot.html'"
      ]
     },
     "execution_count": 11,
     "metadata": {},
     "output_type": "execute_result"
    }
   ],
   "source": [
    "data = [hist]\n",
    "\n",
    "offline.plot(data)"
   ]
  },
  {
   "cell_type": "markdown",
   "metadata": {},
   "source": [
    "### Overlaid Histogram\n",
    "We can plot histograms for multiple variables in a single plot. One way to view multiple histograms is to overlay them.\n",
    "\n",
    "To start off, we create another series of data which we will use along with the previous one. This one has fewer elements and we generate an offset of 1 so that the bins of this series does not fully overlap with those of the previous series."
   ]
  },
  {
   "cell_type": "code",
   "execution_count": 12,
   "metadata": {},
   "outputs": [],
   "source": [
    "more_random_numbers = 1 + np.random.randn(100)"
   ]
  },
  {
   "cell_type": "markdown",
   "metadata": {},
   "source": [
    "#### Our first histogram\n",
    "This one uses the first random_number series. We set an opacity level for the histogram plot."
   ]
  },
  {
   "cell_type": "code",
   "execution_count": 13,
   "metadata": {},
   "outputs": [],
   "source": [
    "trace0 = go.Histogram(x = random_numbers, \n",
    "                      opacity=0.9\n",
    "                     )"
   ]
  },
  {
   "cell_type": "markdown",
   "metadata": {},
   "source": [
    "#### The second histogram\n",
    "THis uses the newly created series, and has a lower opacity."
   ]
  },
  {
   "cell_type": "code",
   "execution_count": 14,
   "metadata": {},
   "outputs": [],
   "source": [
    "trace1 = go.Histogram(x = random_numbers, \n",
    "                      opacity=0.5\n",
    "                     )"
   ]
  },
  {
   "cell_type": "markdown",
   "metadata": {},
   "source": [
    "#### Set the data and layout for the plot\n",
    "In the layout, we specify the barmode attribute to be 'overlay'"
   ]
  },
  {
   "cell_type": "code",
   "execution_count": 15,
   "metadata": {},
   "outputs": [],
   "source": [
    "data = [trace0, trace1]\n",
    "\n",
    "layout = go.Layout(barmode = 'overlay')"
   ]
  },
  {
   "cell_type": "markdown",
   "metadata": {},
   "source": [
    "#### Plot the histograms"
   ]
  },
  {
   "cell_type": "code",
   "execution_count": 17,
   "metadata": {},
   "outputs": [
    {
     "data": {
      "text/plain": [
       "'temp-plot.html'"
      ]
     },
     "execution_count": 17,
     "metadata": {},
     "output_type": "execute_result"
    }
   ],
   "source": [
    "fig = go.Figure(data=data, \n",
    "                layout=layout)\n",
    "\n",
    "offline.plot(fig)"
   ]
  },
  {
   "cell_type": "markdown",
   "metadata": {},
   "source": [
    "#### Stacked histograms\n",
    "If wish to the combined distribution of two series, we can stack their histograms. For that we set the barmode to 'stack'."
   ]
  },
  {
   "cell_type": "code",
   "execution_count": 18,
   "metadata": {},
   "outputs": [],
   "source": [
    "layout = go.Layout(barmode = 'stack')"
   ]
  },
  {
   "cell_type": "code",
   "execution_count": 19,
   "metadata": {},
   "outputs": [
    {
     "data": {
      "application/vnd.plotly.v1+json": {
       "config": {
        "linkText": "Export to plot.ly",
        "plotlyServerURL": "https://plot.ly",
        "showLink": false
       },
       "data": [
        {
         "opacity": 0.9,
         "type": "histogram",
         "x": [
          -0.2330520880666347,
          1.7809280988980987,
          0.386729846956203,
          -0.6452938350546283,
          0.9619754209974907,
          -1.0965423346478962,
          0.2758436362015186,
          -0.9592709230474459,
          -0.6011749484486376,
          -1.5087358034571947,
          -1.6048373360790493,
          0.7230500148356308,
          -0.3204562793715935,
          -0.22454751784388954,
          -0.7053144111904651,
          0.3480471032668824,
          0.36973493506605315,
          -2.1837648097123417,
          -1.1569661205179018,
          0.6377419806630267,
          1.6566593751789922,
          0.5066893212001656,
          1.3770965279330594,
          -0.3691972369699191,
          -0.6302266653963726,
          -0.9364090753829843,
          0.11724013811220674,
          -0.6373234065888944,
          0.9066257624239484,
          -1.855045795014057,
          0.4909987171959853,
          1.3426592742425423,
          2.207209876165524,
          -0.04991417902176783,
          0.17242162934462182,
          0.6587395681636992,
          2.0097937189506876,
          -0.8738402369192123,
          -2.1253331008787595,
          -0.6855779913375452,
          -0.5529639310037594,
          0.4395541177240411,
          1.114756340435108,
          -1.8208000244565548,
          -0.06813356624020975,
          0.2266324480007513,
          -0.9886792955704087,
          0.5910287942369065,
          0.24322464779701028,
          -0.42463521745698396,
          0.22783338525933008,
          -2.1563698589013964,
          -0.07506764014769862,
          -0.4298393817511893,
          -0.3325170294548148,
          -1.7487795517985703,
          -1.3463726880424947,
          0.3353349297249367,
          0.6183860025513029,
          -0.6436368866910284,
          -0.5238539809831814,
          -3.4174047733533044,
          0.4243968312600804,
          -0.7847551698072954,
          1.7169218467913288,
          -0.7716604812266398,
          -1.5634437052553498,
          -0.6232371990901746,
          -0.9427632023231886,
          -0.24416370806533463,
          -0.12903116119127017,
          1.0573588567604053,
          0.9034003064071235,
          0.9591742316150982,
          0.2603243255810245,
          0.7795490008183732,
          0.5928828601922564,
          0.2997057275530728,
          -1.0740812972681315,
          0.8038589401734971,
          -0.8372967022664672,
          0.46721882848574703,
          0.7588747698778044,
          -0.6749101570694239,
          -1.2094873435606874,
          -0.632720073997067,
          0.10949805007218628,
          2.402267243733588,
          -1.1432221443883275,
          -0.18337833810650428,
          0.407420986557238,
          -1.8521807055719783,
          -1.5558404845531073,
          0.776112234980373,
          0.005653200806782716,
          0.2725690147387365,
          -1.0388526939567369,
          0.17645395137518577,
          -0.7897894229271095,
          -0.8087685918236022,
          0.49234453663665245,
          0.14640391784905338,
          1.1916500403040693,
          -0.41787788086166583,
          -0.3154605964318413,
          0.6640446944787238,
          1.886043053108819,
          0.8917381455224255,
          0.25981920228937644,
          -0.5206400482398034,
          -1.2046349189452894,
          -0.2585062531981329,
          -0.08023985882928182,
          -2.311289814027928,
          -1.2103498615497204,
          -0.42822192455226077,
          -0.3884825791768805,
          0.5423530661987095,
          -0.5373697633233605,
          0.7620820334087803,
          0.5406491043320308,
          0.8378325316275049,
          -1.9004207556609771,
          -1.434547791786427,
          1.14277375157668,
          -1.2174230660720435,
          -1.1555525850957484,
          0.5369315913632414,
          -0.9799243088255098,
          -0.7443508033937041,
          2.049118001058428,
          -1.3304139601045137,
          0.7471495138704684,
          1.429317658142207,
          0.23846985125984274,
          1.0580684315952011,
          -1.046376586598719,
          0.49530127523851597,
          0.6584042202113383,
          -0.24529609592599497,
          -2.0735288858365575,
          2.4835478199971432,
          1.341290471022903,
          0.343132913220071,
          -1.3370290542617866,
          -0.8103876799823724,
          -1.905008751505316,
          0.23751912657757998,
          0.5876602078057227,
          -0.7722442092203005,
          0.07671321537459823,
          -0.4989717341769835,
          0.3028077664248009,
          0.2664892689562195,
          0.8364581634053334,
          0.9743542288868133,
          -0.49068447190292797,
          1.3000607452323407,
          -0.4656706711247641,
          0.6469499051216415,
          -1.070021387940171,
          -0.401932177241318,
          0.6012337926828463,
          0.546410602474664,
          -2.6143324505499876,
          -0.897253719389229,
          0.5328938445199789,
          0.01601504374546235,
          1.2034888142085607,
          0.7311131817787674,
          0.3389856227544597,
          -2.168064711432411,
          0.2791483769213026,
          0.6040263686401858,
          -0.16536385169485626,
          0.7281183455866364,
          0.010326724207704347,
          0.12383329963722646,
          0.9171642100691747,
          0.07551321520709259,
          1.2400735105344525,
          -2.2614823487502385,
          0.3312163253663673,
          1.39439725803629,
          1.3670254909135833,
          0.4033638204271883,
          -2.4622442615164646,
          -1.2661939174563825,
          -1.5224750545606842,
          -0.31698863123244075,
          -0.8337018521322931,
          -0.47873601604572447,
          0.8922307098603925,
          -0.4878156817883008,
          -0.6371627753779541,
          -0.3580353160126231,
          0.6340866326575649,
          -0.4982324733256817,
          1.086653002186653,
          -0.3465366499946151
         ]
        },
        {
         "opacity": 0.5,
         "type": "histogram",
         "x": [
          -0.2330520880666347,
          1.7809280988980987,
          0.386729846956203,
          -0.6452938350546283,
          0.9619754209974907,
          -1.0965423346478962,
          0.2758436362015186,
          -0.9592709230474459,
          -0.6011749484486376,
          -1.5087358034571947,
          -1.6048373360790493,
          0.7230500148356308,
          -0.3204562793715935,
          -0.22454751784388954,
          -0.7053144111904651,
          0.3480471032668824,
          0.36973493506605315,
          -2.1837648097123417,
          -1.1569661205179018,
          0.6377419806630267,
          1.6566593751789922,
          0.5066893212001656,
          1.3770965279330594,
          -0.3691972369699191,
          -0.6302266653963726,
          -0.9364090753829843,
          0.11724013811220674,
          -0.6373234065888944,
          0.9066257624239484,
          -1.855045795014057,
          0.4909987171959853,
          1.3426592742425423,
          2.207209876165524,
          -0.04991417902176783,
          0.17242162934462182,
          0.6587395681636992,
          2.0097937189506876,
          -0.8738402369192123,
          -2.1253331008787595,
          -0.6855779913375452,
          -0.5529639310037594,
          0.4395541177240411,
          1.114756340435108,
          -1.8208000244565548,
          -0.06813356624020975,
          0.2266324480007513,
          -0.9886792955704087,
          0.5910287942369065,
          0.24322464779701028,
          -0.42463521745698396,
          0.22783338525933008,
          -2.1563698589013964,
          -0.07506764014769862,
          -0.4298393817511893,
          -0.3325170294548148,
          -1.7487795517985703,
          -1.3463726880424947,
          0.3353349297249367,
          0.6183860025513029,
          -0.6436368866910284,
          -0.5238539809831814,
          -3.4174047733533044,
          0.4243968312600804,
          -0.7847551698072954,
          1.7169218467913288,
          -0.7716604812266398,
          -1.5634437052553498,
          -0.6232371990901746,
          -0.9427632023231886,
          -0.24416370806533463,
          -0.12903116119127017,
          1.0573588567604053,
          0.9034003064071235,
          0.9591742316150982,
          0.2603243255810245,
          0.7795490008183732,
          0.5928828601922564,
          0.2997057275530728,
          -1.0740812972681315,
          0.8038589401734971,
          -0.8372967022664672,
          0.46721882848574703,
          0.7588747698778044,
          -0.6749101570694239,
          -1.2094873435606874,
          -0.632720073997067,
          0.10949805007218628,
          2.402267243733588,
          -1.1432221443883275,
          -0.18337833810650428,
          0.407420986557238,
          -1.8521807055719783,
          -1.5558404845531073,
          0.776112234980373,
          0.005653200806782716,
          0.2725690147387365,
          -1.0388526939567369,
          0.17645395137518577,
          -0.7897894229271095,
          -0.8087685918236022,
          0.49234453663665245,
          0.14640391784905338,
          1.1916500403040693,
          -0.41787788086166583,
          -0.3154605964318413,
          0.6640446944787238,
          1.886043053108819,
          0.8917381455224255,
          0.25981920228937644,
          -0.5206400482398034,
          -1.2046349189452894,
          -0.2585062531981329,
          -0.08023985882928182,
          -2.311289814027928,
          -1.2103498615497204,
          -0.42822192455226077,
          -0.3884825791768805,
          0.5423530661987095,
          -0.5373697633233605,
          0.7620820334087803,
          0.5406491043320308,
          0.8378325316275049,
          -1.9004207556609771,
          -1.434547791786427,
          1.14277375157668,
          -1.2174230660720435,
          -1.1555525850957484,
          0.5369315913632414,
          -0.9799243088255098,
          -0.7443508033937041,
          2.049118001058428,
          -1.3304139601045137,
          0.7471495138704684,
          1.429317658142207,
          0.23846985125984274,
          1.0580684315952011,
          -1.046376586598719,
          0.49530127523851597,
          0.6584042202113383,
          -0.24529609592599497,
          -2.0735288858365575,
          2.4835478199971432,
          1.341290471022903,
          0.343132913220071,
          -1.3370290542617866,
          -0.8103876799823724,
          -1.905008751505316,
          0.23751912657757998,
          0.5876602078057227,
          -0.7722442092203005,
          0.07671321537459823,
          -0.4989717341769835,
          0.3028077664248009,
          0.2664892689562195,
          0.8364581634053334,
          0.9743542288868133,
          -0.49068447190292797,
          1.3000607452323407,
          -0.4656706711247641,
          0.6469499051216415,
          -1.070021387940171,
          -0.401932177241318,
          0.6012337926828463,
          0.546410602474664,
          -2.6143324505499876,
          -0.897253719389229,
          0.5328938445199789,
          0.01601504374546235,
          1.2034888142085607,
          0.7311131817787674,
          0.3389856227544597,
          -2.168064711432411,
          0.2791483769213026,
          0.6040263686401858,
          -0.16536385169485626,
          0.7281183455866364,
          0.010326724207704347,
          0.12383329963722646,
          0.9171642100691747,
          0.07551321520709259,
          1.2400735105344525,
          -2.2614823487502385,
          0.3312163253663673,
          1.39439725803629,
          1.3670254909135833,
          0.4033638204271883,
          -2.4622442615164646,
          -1.2661939174563825,
          -1.5224750545606842,
          -0.31698863123244075,
          -0.8337018521322931,
          -0.47873601604572447,
          0.8922307098603925,
          -0.4878156817883008,
          -0.6371627753779541,
          -0.3580353160126231,
          0.6340866326575649,
          -0.4982324733256817,
          1.086653002186653,
          -0.3465366499946151
         ]
        }
       ],
       "layout": {
        "barmode": "stack",
        "template": {
         "data": {
          "bar": [
           {
            "error_x": {
             "color": "#2a3f5f"
            },
            "error_y": {
             "color": "#2a3f5f"
            },
            "marker": {
             "line": {
              "color": "#E5ECF6",
              "width": 0.5
             }
            },
            "type": "bar"
           }
          ],
          "barpolar": [
           {
            "marker": {
             "line": {
              "color": "#E5ECF6",
              "width": 0.5
             }
            },
            "type": "barpolar"
           }
          ],
          "carpet": [
           {
            "aaxis": {
             "endlinecolor": "#2a3f5f",
             "gridcolor": "white",
             "linecolor": "white",
             "minorgridcolor": "white",
             "startlinecolor": "#2a3f5f"
            },
            "baxis": {
             "endlinecolor": "#2a3f5f",
             "gridcolor": "white",
             "linecolor": "white",
             "minorgridcolor": "white",
             "startlinecolor": "#2a3f5f"
            },
            "type": "carpet"
           }
          ],
          "choropleth": [
           {
            "colorbar": {
             "outlinewidth": 0,
             "ticks": ""
            },
            "type": "choropleth"
           }
          ],
          "contour": [
           {
            "colorbar": {
             "outlinewidth": 0,
             "ticks": ""
            },
            "colorscale": [
             [
              0,
              "#0d0887"
             ],
             [
              0.1111111111111111,
              "#46039f"
             ],
             [
              0.2222222222222222,
              "#7201a8"
             ],
             [
              0.3333333333333333,
              "#9c179e"
             ],
             [
              0.4444444444444444,
              "#bd3786"
             ],
             [
              0.5555555555555556,
              "#d8576b"
             ],
             [
              0.6666666666666666,
              "#ed7953"
             ],
             [
              0.7777777777777778,
              "#fb9f3a"
             ],
             [
              0.8888888888888888,
              "#fdca26"
             ],
             [
              1,
              "#f0f921"
             ]
            ],
            "type": "contour"
           }
          ],
          "contourcarpet": [
           {
            "colorbar": {
             "outlinewidth": 0,
             "ticks": ""
            },
            "type": "contourcarpet"
           }
          ],
          "heatmap": [
           {
            "colorbar": {
             "outlinewidth": 0,
             "ticks": ""
            },
            "colorscale": [
             [
              0,
              "#0d0887"
             ],
             [
              0.1111111111111111,
              "#46039f"
             ],
             [
              0.2222222222222222,
              "#7201a8"
             ],
             [
              0.3333333333333333,
              "#9c179e"
             ],
             [
              0.4444444444444444,
              "#bd3786"
             ],
             [
              0.5555555555555556,
              "#d8576b"
             ],
             [
              0.6666666666666666,
              "#ed7953"
             ],
             [
              0.7777777777777778,
              "#fb9f3a"
             ],
             [
              0.8888888888888888,
              "#fdca26"
             ],
             [
              1,
              "#f0f921"
             ]
            ],
            "type": "heatmap"
           }
          ],
          "heatmapgl": [
           {
            "colorbar": {
             "outlinewidth": 0,
             "ticks": ""
            },
            "colorscale": [
             [
              0,
              "#0d0887"
             ],
             [
              0.1111111111111111,
              "#46039f"
             ],
             [
              0.2222222222222222,
              "#7201a8"
             ],
             [
              0.3333333333333333,
              "#9c179e"
             ],
             [
              0.4444444444444444,
              "#bd3786"
             ],
             [
              0.5555555555555556,
              "#d8576b"
             ],
             [
              0.6666666666666666,
              "#ed7953"
             ],
             [
              0.7777777777777778,
              "#fb9f3a"
             ],
             [
              0.8888888888888888,
              "#fdca26"
             ],
             [
              1,
              "#f0f921"
             ]
            ],
            "type": "heatmapgl"
           }
          ],
          "histogram": [
           {
            "marker": {
             "colorbar": {
              "outlinewidth": 0,
              "ticks": ""
             }
            },
            "type": "histogram"
           }
          ],
          "histogram2d": [
           {
            "colorbar": {
             "outlinewidth": 0,
             "ticks": ""
            },
            "colorscale": [
             [
              0,
              "#0d0887"
             ],
             [
              0.1111111111111111,
              "#46039f"
             ],
             [
              0.2222222222222222,
              "#7201a8"
             ],
             [
              0.3333333333333333,
              "#9c179e"
             ],
             [
              0.4444444444444444,
              "#bd3786"
             ],
             [
              0.5555555555555556,
              "#d8576b"
             ],
             [
              0.6666666666666666,
              "#ed7953"
             ],
             [
              0.7777777777777778,
              "#fb9f3a"
             ],
             [
              0.8888888888888888,
              "#fdca26"
             ],
             [
              1,
              "#f0f921"
             ]
            ],
            "type": "histogram2d"
           }
          ],
          "histogram2dcontour": [
           {
            "colorbar": {
             "outlinewidth": 0,
             "ticks": ""
            },
            "colorscale": [
             [
              0,
              "#0d0887"
             ],
             [
              0.1111111111111111,
              "#46039f"
             ],
             [
              0.2222222222222222,
              "#7201a8"
             ],
             [
              0.3333333333333333,
              "#9c179e"
             ],
             [
              0.4444444444444444,
              "#bd3786"
             ],
             [
              0.5555555555555556,
              "#d8576b"
             ],
             [
              0.6666666666666666,
              "#ed7953"
             ],
             [
              0.7777777777777778,
              "#fb9f3a"
             ],
             [
              0.8888888888888888,
              "#fdca26"
             ],
             [
              1,
              "#f0f921"
             ]
            ],
            "type": "histogram2dcontour"
           }
          ],
          "mesh3d": [
           {
            "colorbar": {
             "outlinewidth": 0,
             "ticks": ""
            },
            "type": "mesh3d"
           }
          ],
          "parcoords": [
           {
            "line": {
             "colorbar": {
              "outlinewidth": 0,
              "ticks": ""
             }
            },
            "type": "parcoords"
           }
          ],
          "pie": [
           {
            "automargin": true,
            "type": "pie"
           }
          ],
          "scatter": [
           {
            "marker": {
             "colorbar": {
              "outlinewidth": 0,
              "ticks": ""
             }
            },
            "type": "scatter"
           }
          ],
          "scatter3d": [
           {
            "line": {
             "colorbar": {
              "outlinewidth": 0,
              "ticks": ""
             }
            },
            "marker": {
             "colorbar": {
              "outlinewidth": 0,
              "ticks": ""
             }
            },
            "type": "scatter3d"
           }
          ],
          "scattercarpet": [
           {
            "marker": {
             "colorbar": {
              "outlinewidth": 0,
              "ticks": ""
             }
            },
            "type": "scattercarpet"
           }
          ],
          "scattergeo": [
           {
            "marker": {
             "colorbar": {
              "outlinewidth": 0,
              "ticks": ""
             }
            },
            "type": "scattergeo"
           }
          ],
          "scattergl": [
           {
            "marker": {
             "colorbar": {
              "outlinewidth": 0,
              "ticks": ""
             }
            },
            "type": "scattergl"
           }
          ],
          "scattermapbox": [
           {
            "marker": {
             "colorbar": {
              "outlinewidth": 0,
              "ticks": ""
             }
            },
            "type": "scattermapbox"
           }
          ],
          "scatterpolar": [
           {
            "marker": {
             "colorbar": {
              "outlinewidth": 0,
              "ticks": ""
             }
            },
            "type": "scatterpolar"
           }
          ],
          "scatterpolargl": [
           {
            "marker": {
             "colorbar": {
              "outlinewidth": 0,
              "ticks": ""
             }
            },
            "type": "scatterpolargl"
           }
          ],
          "scatterternary": [
           {
            "marker": {
             "colorbar": {
              "outlinewidth": 0,
              "ticks": ""
             }
            },
            "type": "scatterternary"
           }
          ],
          "surface": [
           {
            "colorbar": {
             "outlinewidth": 0,
             "ticks": ""
            },
            "colorscale": [
             [
              0,
              "#0d0887"
             ],
             [
              0.1111111111111111,
              "#46039f"
             ],
             [
              0.2222222222222222,
              "#7201a8"
             ],
             [
              0.3333333333333333,
              "#9c179e"
             ],
             [
              0.4444444444444444,
              "#bd3786"
             ],
             [
              0.5555555555555556,
              "#d8576b"
             ],
             [
              0.6666666666666666,
              "#ed7953"
             ],
             [
              0.7777777777777778,
              "#fb9f3a"
             ],
             [
              0.8888888888888888,
              "#fdca26"
             ],
             [
              1,
              "#f0f921"
             ]
            ],
            "type": "surface"
           }
          ],
          "table": [
           {
            "cells": {
             "fill": {
              "color": "#EBF0F8"
             },
             "line": {
              "color": "white"
             }
            },
            "header": {
             "fill": {
              "color": "#C8D4E3"
             },
             "line": {
              "color": "white"
             }
            },
            "type": "table"
           }
          ]
         },
         "layout": {
          "annotationdefaults": {
           "arrowcolor": "#2a3f5f",
           "arrowhead": 0,
           "arrowwidth": 1
          },
          "coloraxis": {
           "colorbar": {
            "outlinewidth": 0,
            "ticks": ""
           }
          },
          "colorscale": {
           "diverging": [
            [
             0,
             "#8e0152"
            ],
            [
             0.1,
             "#c51b7d"
            ],
            [
             0.2,
             "#de77ae"
            ],
            [
             0.3,
             "#f1b6da"
            ],
            [
             0.4,
             "#fde0ef"
            ],
            [
             0.5,
             "#f7f7f7"
            ],
            [
             0.6,
             "#e6f5d0"
            ],
            [
             0.7,
             "#b8e186"
            ],
            [
             0.8,
             "#7fbc41"
            ],
            [
             0.9,
             "#4d9221"
            ],
            [
             1,
             "#276419"
            ]
           ],
           "sequential": [
            [
             0,
             "#0d0887"
            ],
            [
             0.1111111111111111,
             "#46039f"
            ],
            [
             0.2222222222222222,
             "#7201a8"
            ],
            [
             0.3333333333333333,
             "#9c179e"
            ],
            [
             0.4444444444444444,
             "#bd3786"
            ],
            [
             0.5555555555555556,
             "#d8576b"
            ],
            [
             0.6666666666666666,
             "#ed7953"
            ],
            [
             0.7777777777777778,
             "#fb9f3a"
            ],
            [
             0.8888888888888888,
             "#fdca26"
            ],
            [
             1,
             "#f0f921"
            ]
           ],
           "sequentialminus": [
            [
             0,
             "#0d0887"
            ],
            [
             0.1111111111111111,
             "#46039f"
            ],
            [
             0.2222222222222222,
             "#7201a8"
            ],
            [
             0.3333333333333333,
             "#9c179e"
            ],
            [
             0.4444444444444444,
             "#bd3786"
            ],
            [
             0.5555555555555556,
             "#d8576b"
            ],
            [
             0.6666666666666666,
             "#ed7953"
            ],
            [
             0.7777777777777778,
             "#fb9f3a"
            ],
            [
             0.8888888888888888,
             "#fdca26"
            ],
            [
             1,
             "#f0f921"
            ]
           ]
          },
          "colorway": [
           "#636efa",
           "#EF553B",
           "#00cc96",
           "#ab63fa",
           "#FFA15A",
           "#19d3f3",
           "#FF6692",
           "#B6E880",
           "#FF97FF",
           "#FECB52"
          ],
          "font": {
           "color": "#2a3f5f"
          },
          "geo": {
           "bgcolor": "white",
           "lakecolor": "white",
           "landcolor": "#E5ECF6",
           "showlakes": true,
           "showland": true,
           "subunitcolor": "white"
          },
          "hoverlabel": {
           "align": "left"
          },
          "hovermode": "closest",
          "mapbox": {
           "style": "light"
          },
          "paper_bgcolor": "white",
          "plot_bgcolor": "#E5ECF6",
          "polar": {
           "angularaxis": {
            "gridcolor": "white",
            "linecolor": "white",
            "ticks": ""
           },
           "bgcolor": "#E5ECF6",
           "radialaxis": {
            "gridcolor": "white",
            "linecolor": "white",
            "ticks": ""
           }
          },
          "scene": {
           "xaxis": {
            "backgroundcolor": "#E5ECF6",
            "gridcolor": "white",
            "gridwidth": 2,
            "linecolor": "white",
            "showbackground": true,
            "ticks": "",
            "zerolinecolor": "white"
           },
           "yaxis": {
            "backgroundcolor": "#E5ECF6",
            "gridcolor": "white",
            "gridwidth": 2,
            "linecolor": "white",
            "showbackground": true,
            "ticks": "",
            "zerolinecolor": "white"
           },
           "zaxis": {
            "backgroundcolor": "#E5ECF6",
            "gridcolor": "white",
            "gridwidth": 2,
            "linecolor": "white",
            "showbackground": true,
            "ticks": "",
            "zerolinecolor": "white"
           }
          },
          "shapedefaults": {
           "line": {
            "color": "#2a3f5f"
           }
          },
          "ternary": {
           "aaxis": {
            "gridcolor": "white",
            "linecolor": "white",
            "ticks": ""
           },
           "baxis": {
            "gridcolor": "white",
            "linecolor": "white",
            "ticks": ""
           },
           "bgcolor": "#E5ECF6",
           "caxis": {
            "gridcolor": "white",
            "linecolor": "white",
            "ticks": ""
           }
          },
          "title": {
           "x": 0.05
          },
          "xaxis": {
           "automargin": true,
           "gridcolor": "white",
           "linecolor": "white",
           "ticks": "",
           "title": {
            "standoff": 15
           },
           "zerolinecolor": "white",
           "zerolinewidth": 2
          },
          "yaxis": {
           "automargin": true,
           "gridcolor": "white",
           "linecolor": "white",
           "ticks": "",
           "title": {
            "standoff": 15
           },
           "zerolinecolor": "white",
           "zerolinewidth": 2
          }
         }
        }
       }
      },
      "text/html": [
       "<div>\n",
       "        \n",
       "        \n",
       "            <div id=\"3d57c35a-ee78-423a-aabd-169c4033abb6\" class=\"plotly-graph-div\" style=\"height:525px; width:100%;\"></div>\n",
       "            <script type=\"text/javascript\">\n",
       "                require([\"plotly\"], function(Plotly) {\n",
       "                    window.PLOTLYENV=window.PLOTLYENV || {};\n",
       "                    \n",
       "                if (document.getElementById(\"3d57c35a-ee78-423a-aabd-169c4033abb6\")) {\n",
       "                    Plotly.newPlot(\n",
       "                        '3d57c35a-ee78-423a-aabd-169c4033abb6',\n",
       "                        [{\"opacity\": 0.9, \"type\": \"histogram\", \"x\": [-0.2330520880666347, 1.7809280988980987, 0.386729846956203, -0.6452938350546283, 0.9619754209974907, -1.0965423346478962, 0.2758436362015186, -0.9592709230474459, -0.6011749484486376, -1.5087358034571947, -1.6048373360790493, 0.7230500148356308, -0.3204562793715935, -0.22454751784388954, -0.7053144111904651, 0.3480471032668824, 0.36973493506605315, -2.1837648097123417, -1.1569661205179018, 0.6377419806630267, 1.6566593751789922, 0.5066893212001656, 1.3770965279330594, -0.3691972369699191, -0.6302266653963726, -0.9364090753829843, 0.11724013811220674, -0.6373234065888944, 0.9066257624239484, -1.855045795014057, 0.4909987171959853, 1.3426592742425423, 2.207209876165524, -0.04991417902176783, 0.17242162934462182, 0.6587395681636992, 2.0097937189506876, -0.8738402369192123, -2.1253331008787595, -0.6855779913375452, -0.5529639310037594, 0.4395541177240411, 1.114756340435108, -1.8208000244565548, -0.06813356624020975, 0.2266324480007513, -0.9886792955704087, 0.5910287942369065, 0.24322464779701028, -0.42463521745698396, 0.22783338525933008, -2.1563698589013964, -0.07506764014769862, -0.4298393817511893, -0.3325170294548148, -1.7487795517985703, -1.3463726880424947, 0.3353349297249367, 0.6183860025513029, -0.6436368866910284, -0.5238539809831814, -3.4174047733533044, 0.4243968312600804, -0.7847551698072954, 1.7169218467913288, -0.7716604812266398, -1.5634437052553498, -0.6232371990901746, -0.9427632023231886, -0.24416370806533463, -0.12903116119127017, 1.0573588567604053, 0.9034003064071235, 0.9591742316150982, 0.2603243255810245, 0.7795490008183732, 0.5928828601922564, 0.2997057275530728, -1.0740812972681315, 0.8038589401734971, -0.8372967022664672, 0.46721882848574703, 0.7588747698778044, -0.6749101570694239, -1.2094873435606874, -0.632720073997067, 0.10949805007218628, 2.402267243733588, -1.1432221443883275, -0.18337833810650428, 0.407420986557238, -1.8521807055719783, -1.5558404845531073, 0.776112234980373, 0.005653200806782716, 0.2725690147387365, -1.0388526939567369, 0.17645395137518577, -0.7897894229271095, -0.8087685918236022, 0.49234453663665245, 0.14640391784905338, 1.1916500403040693, -0.41787788086166583, -0.3154605964318413, 0.6640446944787238, 1.886043053108819, 0.8917381455224255, 0.25981920228937644, -0.5206400482398034, -1.2046349189452894, -0.2585062531981329, -0.08023985882928182, -2.311289814027928, -1.2103498615497204, -0.42822192455226077, -0.3884825791768805, 0.5423530661987095, -0.5373697633233605, 0.7620820334087803, 0.5406491043320308, 0.8378325316275049, -1.9004207556609771, -1.434547791786427, 1.14277375157668, -1.2174230660720435, -1.1555525850957484, 0.5369315913632414, -0.9799243088255098, -0.7443508033937041, 2.049118001058428, -1.3304139601045137, 0.7471495138704684, 1.429317658142207, 0.23846985125984274, 1.0580684315952011, -1.046376586598719, 0.49530127523851597, 0.6584042202113383, -0.24529609592599497, -2.0735288858365575, 2.4835478199971432, 1.341290471022903, 0.343132913220071, -1.3370290542617866, -0.8103876799823724, -1.905008751505316, 0.23751912657757998, 0.5876602078057227, -0.7722442092203005, 0.07671321537459823, -0.4989717341769835, 0.3028077664248009, 0.2664892689562195, 0.8364581634053334, 0.9743542288868133, -0.49068447190292797, 1.3000607452323407, -0.4656706711247641, 0.6469499051216415, -1.070021387940171, -0.401932177241318, 0.6012337926828463, 0.546410602474664, -2.6143324505499876, -0.897253719389229, 0.5328938445199789, 0.01601504374546235, 1.2034888142085607, 0.7311131817787674, 0.3389856227544597, -2.168064711432411, 0.2791483769213026, 0.6040263686401858, -0.16536385169485626, 0.7281183455866364, 0.010326724207704347, 0.12383329963722646, 0.9171642100691747, 0.07551321520709259, 1.2400735105344525, -2.2614823487502385, 0.3312163253663673, 1.39439725803629, 1.3670254909135833, 0.4033638204271883, -2.4622442615164646, -1.2661939174563825, -1.5224750545606842, -0.31698863123244075, -0.8337018521322931, -0.47873601604572447, 0.8922307098603925, -0.4878156817883008, -0.6371627753779541, -0.3580353160126231, 0.6340866326575649, -0.4982324733256817, 1.086653002186653, -0.3465366499946151]}, {\"opacity\": 0.5, \"type\": \"histogram\", \"x\": [-0.2330520880666347, 1.7809280988980987, 0.386729846956203, -0.6452938350546283, 0.9619754209974907, -1.0965423346478962, 0.2758436362015186, -0.9592709230474459, -0.6011749484486376, -1.5087358034571947, -1.6048373360790493, 0.7230500148356308, -0.3204562793715935, -0.22454751784388954, -0.7053144111904651, 0.3480471032668824, 0.36973493506605315, -2.1837648097123417, -1.1569661205179018, 0.6377419806630267, 1.6566593751789922, 0.5066893212001656, 1.3770965279330594, -0.3691972369699191, -0.6302266653963726, -0.9364090753829843, 0.11724013811220674, -0.6373234065888944, 0.9066257624239484, -1.855045795014057, 0.4909987171959853, 1.3426592742425423, 2.207209876165524, -0.04991417902176783, 0.17242162934462182, 0.6587395681636992, 2.0097937189506876, -0.8738402369192123, -2.1253331008787595, -0.6855779913375452, -0.5529639310037594, 0.4395541177240411, 1.114756340435108, -1.8208000244565548, -0.06813356624020975, 0.2266324480007513, -0.9886792955704087, 0.5910287942369065, 0.24322464779701028, -0.42463521745698396, 0.22783338525933008, -2.1563698589013964, -0.07506764014769862, -0.4298393817511893, -0.3325170294548148, -1.7487795517985703, -1.3463726880424947, 0.3353349297249367, 0.6183860025513029, -0.6436368866910284, -0.5238539809831814, -3.4174047733533044, 0.4243968312600804, -0.7847551698072954, 1.7169218467913288, -0.7716604812266398, -1.5634437052553498, -0.6232371990901746, -0.9427632023231886, -0.24416370806533463, -0.12903116119127017, 1.0573588567604053, 0.9034003064071235, 0.9591742316150982, 0.2603243255810245, 0.7795490008183732, 0.5928828601922564, 0.2997057275530728, -1.0740812972681315, 0.8038589401734971, -0.8372967022664672, 0.46721882848574703, 0.7588747698778044, -0.6749101570694239, -1.2094873435606874, -0.632720073997067, 0.10949805007218628, 2.402267243733588, -1.1432221443883275, -0.18337833810650428, 0.407420986557238, -1.8521807055719783, -1.5558404845531073, 0.776112234980373, 0.005653200806782716, 0.2725690147387365, -1.0388526939567369, 0.17645395137518577, -0.7897894229271095, -0.8087685918236022, 0.49234453663665245, 0.14640391784905338, 1.1916500403040693, -0.41787788086166583, -0.3154605964318413, 0.6640446944787238, 1.886043053108819, 0.8917381455224255, 0.25981920228937644, -0.5206400482398034, -1.2046349189452894, -0.2585062531981329, -0.08023985882928182, -2.311289814027928, -1.2103498615497204, -0.42822192455226077, -0.3884825791768805, 0.5423530661987095, -0.5373697633233605, 0.7620820334087803, 0.5406491043320308, 0.8378325316275049, -1.9004207556609771, -1.434547791786427, 1.14277375157668, -1.2174230660720435, -1.1555525850957484, 0.5369315913632414, -0.9799243088255098, -0.7443508033937041, 2.049118001058428, -1.3304139601045137, 0.7471495138704684, 1.429317658142207, 0.23846985125984274, 1.0580684315952011, -1.046376586598719, 0.49530127523851597, 0.6584042202113383, -0.24529609592599497, -2.0735288858365575, 2.4835478199971432, 1.341290471022903, 0.343132913220071, -1.3370290542617866, -0.8103876799823724, -1.905008751505316, 0.23751912657757998, 0.5876602078057227, -0.7722442092203005, 0.07671321537459823, -0.4989717341769835, 0.3028077664248009, 0.2664892689562195, 0.8364581634053334, 0.9743542288868133, -0.49068447190292797, 1.3000607452323407, -0.4656706711247641, 0.6469499051216415, -1.070021387940171, -0.401932177241318, 0.6012337926828463, 0.546410602474664, -2.6143324505499876, -0.897253719389229, 0.5328938445199789, 0.01601504374546235, 1.2034888142085607, 0.7311131817787674, 0.3389856227544597, -2.168064711432411, 0.2791483769213026, 0.6040263686401858, -0.16536385169485626, 0.7281183455866364, 0.010326724207704347, 0.12383329963722646, 0.9171642100691747, 0.07551321520709259, 1.2400735105344525, -2.2614823487502385, 0.3312163253663673, 1.39439725803629, 1.3670254909135833, 0.4033638204271883, -2.4622442615164646, -1.2661939174563825, -1.5224750545606842, -0.31698863123244075, -0.8337018521322931, -0.47873601604572447, 0.8922307098603925, -0.4878156817883008, -0.6371627753779541, -0.3580353160126231, 0.6340866326575649, -0.4982324733256817, 1.086653002186653, -0.3465366499946151]}],\n",
       "                        {\"barmode\": \"stack\", \"template\": {\"data\": {\"bar\": [{\"error_x\": {\"color\": \"#2a3f5f\"}, \"error_y\": {\"color\": \"#2a3f5f\"}, \"marker\": {\"line\": {\"color\": \"#E5ECF6\", \"width\": 0.5}}, \"type\": \"bar\"}], \"barpolar\": [{\"marker\": {\"line\": {\"color\": \"#E5ECF6\", \"width\": 0.5}}, \"type\": \"barpolar\"}], \"carpet\": [{\"aaxis\": {\"endlinecolor\": \"#2a3f5f\", \"gridcolor\": \"white\", \"linecolor\": \"white\", \"minorgridcolor\": \"white\", \"startlinecolor\": \"#2a3f5f\"}, \"baxis\": {\"endlinecolor\": \"#2a3f5f\", \"gridcolor\": \"white\", \"linecolor\": \"white\", \"minorgridcolor\": \"white\", \"startlinecolor\": \"#2a3f5f\"}, \"type\": \"carpet\"}], \"choropleth\": [{\"colorbar\": {\"outlinewidth\": 0, \"ticks\": \"\"}, \"type\": \"choropleth\"}], \"contour\": [{\"colorbar\": {\"outlinewidth\": 0, \"ticks\": \"\"}, \"colorscale\": [[0.0, \"#0d0887\"], [0.1111111111111111, \"#46039f\"], [0.2222222222222222, \"#7201a8\"], [0.3333333333333333, \"#9c179e\"], [0.4444444444444444, \"#bd3786\"], [0.5555555555555556, \"#d8576b\"], [0.6666666666666666, \"#ed7953\"], [0.7777777777777778, \"#fb9f3a\"], [0.8888888888888888, \"#fdca26\"], [1.0, \"#f0f921\"]], \"type\": \"contour\"}], \"contourcarpet\": [{\"colorbar\": {\"outlinewidth\": 0, \"ticks\": \"\"}, \"type\": \"contourcarpet\"}], \"heatmap\": [{\"colorbar\": {\"outlinewidth\": 0, \"ticks\": \"\"}, \"colorscale\": [[0.0, \"#0d0887\"], [0.1111111111111111, \"#46039f\"], [0.2222222222222222, \"#7201a8\"], [0.3333333333333333, \"#9c179e\"], [0.4444444444444444, \"#bd3786\"], [0.5555555555555556, \"#d8576b\"], [0.6666666666666666, \"#ed7953\"], [0.7777777777777778, \"#fb9f3a\"], [0.8888888888888888, \"#fdca26\"], [1.0, \"#f0f921\"]], \"type\": \"heatmap\"}], \"heatmapgl\": [{\"colorbar\": {\"outlinewidth\": 0, \"ticks\": \"\"}, \"colorscale\": [[0.0, \"#0d0887\"], [0.1111111111111111, \"#46039f\"], [0.2222222222222222, \"#7201a8\"], [0.3333333333333333, \"#9c179e\"], [0.4444444444444444, \"#bd3786\"], [0.5555555555555556, \"#d8576b\"], [0.6666666666666666, \"#ed7953\"], [0.7777777777777778, \"#fb9f3a\"], [0.8888888888888888, \"#fdca26\"], [1.0, \"#f0f921\"]], \"type\": \"heatmapgl\"}], \"histogram\": [{\"marker\": {\"colorbar\": {\"outlinewidth\": 0, \"ticks\": \"\"}}, \"type\": \"histogram\"}], \"histogram2d\": [{\"colorbar\": {\"outlinewidth\": 0, \"ticks\": \"\"}, \"colorscale\": [[0.0, \"#0d0887\"], [0.1111111111111111, \"#46039f\"], [0.2222222222222222, \"#7201a8\"], [0.3333333333333333, \"#9c179e\"], [0.4444444444444444, \"#bd3786\"], [0.5555555555555556, \"#d8576b\"], [0.6666666666666666, \"#ed7953\"], [0.7777777777777778, \"#fb9f3a\"], [0.8888888888888888, \"#fdca26\"], [1.0, \"#f0f921\"]], \"type\": \"histogram2d\"}], \"histogram2dcontour\": [{\"colorbar\": {\"outlinewidth\": 0, \"ticks\": \"\"}, \"colorscale\": [[0.0, \"#0d0887\"], [0.1111111111111111, \"#46039f\"], [0.2222222222222222, \"#7201a8\"], [0.3333333333333333, \"#9c179e\"], [0.4444444444444444, \"#bd3786\"], [0.5555555555555556, \"#d8576b\"], [0.6666666666666666, \"#ed7953\"], [0.7777777777777778, \"#fb9f3a\"], [0.8888888888888888, \"#fdca26\"], [1.0, \"#f0f921\"]], \"type\": \"histogram2dcontour\"}], \"mesh3d\": [{\"colorbar\": {\"outlinewidth\": 0, \"ticks\": \"\"}, \"type\": \"mesh3d\"}], \"parcoords\": [{\"line\": {\"colorbar\": {\"outlinewidth\": 0, \"ticks\": \"\"}}, \"type\": \"parcoords\"}], \"pie\": [{\"automargin\": true, \"type\": \"pie\"}], \"scatter\": [{\"marker\": {\"colorbar\": {\"outlinewidth\": 0, \"ticks\": \"\"}}, \"type\": \"scatter\"}], \"scatter3d\": [{\"line\": {\"colorbar\": {\"outlinewidth\": 0, \"ticks\": \"\"}}, \"marker\": {\"colorbar\": {\"outlinewidth\": 0, \"ticks\": \"\"}}, \"type\": \"scatter3d\"}], \"scattercarpet\": [{\"marker\": {\"colorbar\": {\"outlinewidth\": 0, \"ticks\": \"\"}}, \"type\": \"scattercarpet\"}], \"scattergeo\": [{\"marker\": {\"colorbar\": {\"outlinewidth\": 0, \"ticks\": \"\"}}, \"type\": \"scattergeo\"}], \"scattergl\": [{\"marker\": {\"colorbar\": {\"outlinewidth\": 0, \"ticks\": \"\"}}, \"type\": \"scattergl\"}], \"scattermapbox\": [{\"marker\": {\"colorbar\": {\"outlinewidth\": 0, \"ticks\": \"\"}}, \"type\": \"scattermapbox\"}], \"scatterpolar\": [{\"marker\": {\"colorbar\": {\"outlinewidth\": 0, \"ticks\": \"\"}}, \"type\": \"scatterpolar\"}], \"scatterpolargl\": [{\"marker\": {\"colorbar\": {\"outlinewidth\": 0, \"ticks\": \"\"}}, \"type\": \"scatterpolargl\"}], \"scatterternary\": [{\"marker\": {\"colorbar\": {\"outlinewidth\": 0, \"ticks\": \"\"}}, \"type\": \"scatterternary\"}], \"surface\": [{\"colorbar\": {\"outlinewidth\": 0, \"ticks\": \"\"}, \"colorscale\": [[0.0, \"#0d0887\"], [0.1111111111111111, \"#46039f\"], [0.2222222222222222, \"#7201a8\"], [0.3333333333333333, \"#9c179e\"], [0.4444444444444444, \"#bd3786\"], [0.5555555555555556, \"#d8576b\"], [0.6666666666666666, \"#ed7953\"], [0.7777777777777778, \"#fb9f3a\"], [0.8888888888888888, \"#fdca26\"], [1.0, \"#f0f921\"]], \"type\": \"surface\"}], \"table\": [{\"cells\": {\"fill\": {\"color\": \"#EBF0F8\"}, \"line\": {\"color\": \"white\"}}, \"header\": {\"fill\": {\"color\": \"#C8D4E3\"}, \"line\": {\"color\": \"white\"}}, \"type\": \"table\"}]}, \"layout\": {\"annotationdefaults\": {\"arrowcolor\": \"#2a3f5f\", \"arrowhead\": 0, \"arrowwidth\": 1}, \"coloraxis\": {\"colorbar\": {\"outlinewidth\": 0, \"ticks\": \"\"}}, \"colorscale\": {\"diverging\": [[0, \"#8e0152\"], [0.1, \"#c51b7d\"], [0.2, \"#de77ae\"], [0.3, \"#f1b6da\"], [0.4, \"#fde0ef\"], [0.5, \"#f7f7f7\"], [0.6, \"#e6f5d0\"], [0.7, \"#b8e186\"], [0.8, \"#7fbc41\"], [0.9, \"#4d9221\"], [1, \"#276419\"]], \"sequential\": [[0.0, \"#0d0887\"], [0.1111111111111111, \"#46039f\"], [0.2222222222222222, \"#7201a8\"], [0.3333333333333333, \"#9c179e\"], [0.4444444444444444, \"#bd3786\"], [0.5555555555555556, \"#d8576b\"], [0.6666666666666666, \"#ed7953\"], [0.7777777777777778, \"#fb9f3a\"], [0.8888888888888888, \"#fdca26\"], [1.0, \"#f0f921\"]], \"sequentialminus\": [[0.0, \"#0d0887\"], [0.1111111111111111, \"#46039f\"], [0.2222222222222222, \"#7201a8\"], [0.3333333333333333, \"#9c179e\"], [0.4444444444444444, \"#bd3786\"], [0.5555555555555556, \"#d8576b\"], [0.6666666666666666, \"#ed7953\"], [0.7777777777777778, \"#fb9f3a\"], [0.8888888888888888, \"#fdca26\"], [1.0, \"#f0f921\"]]}, \"colorway\": [\"#636efa\", \"#EF553B\", \"#00cc96\", \"#ab63fa\", \"#FFA15A\", \"#19d3f3\", \"#FF6692\", \"#B6E880\", \"#FF97FF\", \"#FECB52\"], \"font\": {\"color\": \"#2a3f5f\"}, \"geo\": {\"bgcolor\": \"white\", \"lakecolor\": \"white\", \"landcolor\": \"#E5ECF6\", \"showlakes\": true, \"showland\": true, \"subunitcolor\": \"white\"}, \"hoverlabel\": {\"align\": \"left\"}, \"hovermode\": \"closest\", \"mapbox\": {\"style\": \"light\"}, \"paper_bgcolor\": \"white\", \"plot_bgcolor\": \"#E5ECF6\", \"polar\": {\"angularaxis\": {\"gridcolor\": \"white\", \"linecolor\": \"white\", \"ticks\": \"\"}, \"bgcolor\": \"#E5ECF6\", \"radialaxis\": {\"gridcolor\": \"white\", \"linecolor\": \"white\", \"ticks\": \"\"}}, \"scene\": {\"xaxis\": {\"backgroundcolor\": \"#E5ECF6\", \"gridcolor\": \"white\", \"gridwidth\": 2, \"linecolor\": \"white\", \"showbackground\": true, \"ticks\": \"\", \"zerolinecolor\": \"white\"}, \"yaxis\": {\"backgroundcolor\": \"#E5ECF6\", \"gridcolor\": \"white\", \"gridwidth\": 2, \"linecolor\": \"white\", \"showbackground\": true, \"ticks\": \"\", \"zerolinecolor\": \"white\"}, \"zaxis\": {\"backgroundcolor\": \"#E5ECF6\", \"gridcolor\": \"white\", \"gridwidth\": 2, \"linecolor\": \"white\", \"showbackground\": true, \"ticks\": \"\", \"zerolinecolor\": \"white\"}}, \"shapedefaults\": {\"line\": {\"color\": \"#2a3f5f\"}}, \"ternary\": {\"aaxis\": {\"gridcolor\": \"white\", \"linecolor\": \"white\", \"ticks\": \"\"}, \"baxis\": {\"gridcolor\": \"white\", \"linecolor\": \"white\", \"ticks\": \"\"}, \"bgcolor\": \"#E5ECF6\", \"caxis\": {\"gridcolor\": \"white\", \"linecolor\": \"white\", \"ticks\": \"\"}}, \"title\": {\"x\": 0.05}, \"xaxis\": {\"automargin\": true, \"gridcolor\": \"white\", \"linecolor\": \"white\", \"ticks\": \"\", \"title\": {\"standoff\": 15}, \"zerolinecolor\": \"white\", \"zerolinewidth\": 2}, \"yaxis\": {\"automargin\": true, \"gridcolor\": \"white\", \"linecolor\": \"white\", \"ticks\": \"\", \"title\": {\"standoff\": 15}, \"zerolinecolor\": \"white\", \"zerolinewidth\": 2}}}},\n",
       "                        {\"responsive\": true}\n",
       "                    ).then(function(){\n",
       "                            \n",
       "var gd = document.getElementById('3d57c35a-ee78-423a-aabd-169c4033abb6');\n",
       "var x = new MutationObserver(function (mutations, observer) {{\n",
       "        var display = window.getComputedStyle(gd).display;\n",
       "        if (!display || display === 'none') {{\n",
       "            console.log([gd, 'removed!']);\n",
       "            Plotly.purge(gd);\n",
       "            observer.disconnect();\n",
       "        }}\n",
       "}});\n",
       "\n",
       "// Listen for the removal of the full notebook cells\n",
       "var notebookContainer = gd.closest('#notebook-container');\n",
       "if (notebookContainer) {{\n",
       "    x.observe(notebookContainer, {childList: true});\n",
       "}}\n",
       "\n",
       "// Listen for the clearing of the current output cell\n",
       "var outputEl = gd.closest('.output');\n",
       "if (outputEl) {{\n",
       "    x.observe(outputEl, {childList: true});\n",
       "}}\n",
       "\n",
       "                        })\n",
       "                };\n",
       "                });\n",
       "            </script>\n",
       "        </div>"
      ]
     },
     "metadata": {},
     "output_type": "display_data"
    }
   ],
   "source": [
    "fig = go.Figure(data=data, \n",
    "                layout=layout)\n",
    "\n",
    "offline.iplot(fig)"
   ]
  },
  {
   "cell_type": "markdown",
   "metadata": {},
   "source": [
    "### Styled Histogram\n",
    "We can apply a number of styling properties to histograms. We explore some of them here."
   ]
  },
  {
   "cell_type": "markdown",
   "metadata": {},
   "source": [
    "#### Define the first histogram in our plot\n",
    "* xbins: start and end set the range for the entire histogram plot. Size sets the width of each bin\n",
    "* marker: this is used to configure the histogram bins"
   ]
  },
  {
   "cell_type": "code",
   "execution_count": 20,
   "metadata": {},
   "outputs": [],
   "source": [
    "trace0 = go.Histogram(x = random_numbers,\n",
    "                      \n",
    "                      name = 'Series 1',\n",
    "                      \n",
    "                      xbins = dict(start = -4,\n",
    "                                   end = 4,\n",
    "                                   size = 0.5\n",
    "                                  ),\n",
    "                      \n",
    "                      marker = dict(color = '#D67D93'),\n",
    "                      \n",
    "                      opacity = 0.75\n",
    "                     )"
   ]
  },
  {
   "cell_type": "markdown",
   "metadata": {},
   "source": [
    "#### Define the second histogram\n",
    "We use the same bin size as the previous histogram to make it easier for comparison. However, it is not required to have the same bin size - but the histogram bars will be unevenly spaced in the plot"
   ]
  },
  {
   "cell_type": "code",
   "execution_count": 29,
   "metadata": {},
   "outputs": [],
   "source": [
    "trace1 = go.Histogram(x = more_random_numbers,\n",
    "                      \n",
    "                      name = 'Series 2',\n",
    "                      \n",
    "                      xbins = dict(start = -1,\n",
    "                                   end = 4,\n",
    "                                   size = 0.2\n",
    "                                  ),\n",
    "                      \n",
    "                      marker = dict(color = '#7DAED6'),\n",
    "                      \n",
    "                      opacity = 0.75\n",
    "                     )"
   ]
  },
  {
   "cell_type": "code",
   "execution_count": 30,
   "metadata": {},
   "outputs": [],
   "source": [
    "data = [trace0, trace1]"
   ]
  },
  {
   "cell_type": "markdown",
   "metadata": {},
   "source": [
    "#### Define the layout\n",
    "* bargap sets the distance (in plot units) between bars of adjacent location coordinates (i.e. adjacent x value here)\n",
    "* bargroupgap sets the distance between bars in the same group (i.e. same x value)"
   ]
  },
  {
   "cell_type": "code",
   "execution_count": 31,
   "metadata": {},
   "outputs": [],
   "source": [
    "layout = go.Layout(title='Styled histograms',\n",
    "                   \n",
    "                   xaxis=dict(title='Value'),\n",
    "                   yaxis=dict(title='Count'),\n",
    "                   \n",
    "                   bargap=0.2,\n",
    "                   \n",
    "                   bargroupgap=0.1\n",
    ")"
   ]
  },
  {
   "cell_type": "code",
   "execution_count": 32,
   "metadata": {},
   "outputs": [
    {
     "data": {
      "application/vnd.plotly.v1+json": {
       "config": {
        "linkText": "Export to plot.ly",
        "plotlyServerURL": "https://plot.ly",
        "showLink": false
       },
       "data": [
        {
         "marker": {
          "color": "#D67D93"
         },
         "name": "Series 1",
         "opacity": 0.75,
         "type": "histogram",
         "x": [
          -0.2330520880666347,
          1.7809280988980987,
          0.386729846956203,
          -0.6452938350546283,
          0.9619754209974907,
          -1.0965423346478962,
          0.2758436362015186,
          -0.9592709230474459,
          -0.6011749484486376,
          -1.5087358034571947,
          -1.6048373360790493,
          0.7230500148356308,
          -0.3204562793715935,
          -0.22454751784388954,
          -0.7053144111904651,
          0.3480471032668824,
          0.36973493506605315,
          -2.1837648097123417,
          -1.1569661205179018,
          0.6377419806630267,
          1.6566593751789922,
          0.5066893212001656,
          1.3770965279330594,
          -0.3691972369699191,
          -0.6302266653963726,
          -0.9364090753829843,
          0.11724013811220674,
          -0.6373234065888944,
          0.9066257624239484,
          -1.855045795014057,
          0.4909987171959853,
          1.3426592742425423,
          2.207209876165524,
          -0.04991417902176783,
          0.17242162934462182,
          0.6587395681636992,
          2.0097937189506876,
          -0.8738402369192123,
          -2.1253331008787595,
          -0.6855779913375452,
          -0.5529639310037594,
          0.4395541177240411,
          1.114756340435108,
          -1.8208000244565548,
          -0.06813356624020975,
          0.2266324480007513,
          -0.9886792955704087,
          0.5910287942369065,
          0.24322464779701028,
          -0.42463521745698396,
          0.22783338525933008,
          -2.1563698589013964,
          -0.07506764014769862,
          -0.4298393817511893,
          -0.3325170294548148,
          -1.7487795517985703,
          -1.3463726880424947,
          0.3353349297249367,
          0.6183860025513029,
          -0.6436368866910284,
          -0.5238539809831814,
          -3.4174047733533044,
          0.4243968312600804,
          -0.7847551698072954,
          1.7169218467913288,
          -0.7716604812266398,
          -1.5634437052553498,
          -0.6232371990901746,
          -0.9427632023231886,
          -0.24416370806533463,
          -0.12903116119127017,
          1.0573588567604053,
          0.9034003064071235,
          0.9591742316150982,
          0.2603243255810245,
          0.7795490008183732,
          0.5928828601922564,
          0.2997057275530728,
          -1.0740812972681315,
          0.8038589401734971,
          -0.8372967022664672,
          0.46721882848574703,
          0.7588747698778044,
          -0.6749101570694239,
          -1.2094873435606874,
          -0.632720073997067,
          0.10949805007218628,
          2.402267243733588,
          -1.1432221443883275,
          -0.18337833810650428,
          0.407420986557238,
          -1.8521807055719783,
          -1.5558404845531073,
          0.776112234980373,
          0.005653200806782716,
          0.2725690147387365,
          -1.0388526939567369,
          0.17645395137518577,
          -0.7897894229271095,
          -0.8087685918236022,
          0.49234453663665245,
          0.14640391784905338,
          1.1916500403040693,
          -0.41787788086166583,
          -0.3154605964318413,
          0.6640446944787238,
          1.886043053108819,
          0.8917381455224255,
          0.25981920228937644,
          -0.5206400482398034,
          -1.2046349189452894,
          -0.2585062531981329,
          -0.08023985882928182,
          -2.311289814027928,
          -1.2103498615497204,
          -0.42822192455226077,
          -0.3884825791768805,
          0.5423530661987095,
          -0.5373697633233605,
          0.7620820334087803,
          0.5406491043320308,
          0.8378325316275049,
          -1.9004207556609771,
          -1.434547791786427,
          1.14277375157668,
          -1.2174230660720435,
          -1.1555525850957484,
          0.5369315913632414,
          -0.9799243088255098,
          -0.7443508033937041,
          2.049118001058428,
          -1.3304139601045137,
          0.7471495138704684,
          1.429317658142207,
          0.23846985125984274,
          1.0580684315952011,
          -1.046376586598719,
          0.49530127523851597,
          0.6584042202113383,
          -0.24529609592599497,
          -2.0735288858365575,
          2.4835478199971432,
          1.341290471022903,
          0.343132913220071,
          -1.3370290542617866,
          -0.8103876799823724,
          -1.905008751505316,
          0.23751912657757998,
          0.5876602078057227,
          -0.7722442092203005,
          0.07671321537459823,
          -0.4989717341769835,
          0.3028077664248009,
          0.2664892689562195,
          0.8364581634053334,
          0.9743542288868133,
          -0.49068447190292797,
          1.3000607452323407,
          -0.4656706711247641,
          0.6469499051216415,
          -1.070021387940171,
          -0.401932177241318,
          0.6012337926828463,
          0.546410602474664,
          -2.6143324505499876,
          -0.897253719389229,
          0.5328938445199789,
          0.01601504374546235,
          1.2034888142085607,
          0.7311131817787674,
          0.3389856227544597,
          -2.168064711432411,
          0.2791483769213026,
          0.6040263686401858,
          -0.16536385169485626,
          0.7281183455866364,
          0.010326724207704347,
          0.12383329963722646,
          0.9171642100691747,
          0.07551321520709259,
          1.2400735105344525,
          -2.2614823487502385,
          0.3312163253663673,
          1.39439725803629,
          1.3670254909135833,
          0.4033638204271883,
          -2.4622442615164646,
          -1.2661939174563825,
          -1.5224750545606842,
          -0.31698863123244075,
          -0.8337018521322931,
          -0.47873601604572447,
          0.8922307098603925,
          -0.4878156817883008,
          -0.6371627753779541,
          -0.3580353160126231,
          0.6340866326575649,
          -0.4982324733256817,
          1.086653002186653,
          -0.3465366499946151
         ],
         "xbins": {
          "end": 4,
          "size": 0.5,
          "start": -4
         }
        },
        {
         "marker": {
          "color": "#7DAED6"
         },
         "name": "Series 2",
         "opacity": 0.75,
         "type": "histogram",
         "x": [
          1.9286397827978567,
          1.548502538688446,
          1.5760822010415079,
          1.0630250839829822,
          0.37870197054005905,
          0.784694380418184,
          1.1638918245919103,
          0.7595113214583231,
          0.5261548268555749,
          0.7942145414687044,
          0.3849246357130677,
          1.6957392143963048,
          1.22421536076506,
          -0.2566709632529909,
          0.8492164540235017,
          0.6036472987874597,
          2.0828471940945072,
          1.962684807583363,
          1.1456995943705115,
          1.4132716798487923,
          1.1676903851067102,
          0.47146433927896203,
          0.06770253036197393,
          1.4334673175042982,
          0.27362848528540307,
          2.1078563168012607,
          3.504007543338746,
          1.3333115099482216,
          -1.3771751911768795,
          -0.6402019092380431,
          2.790697467840392,
          0.7361474549383651,
          2.01699518526156,
          1.3864214393486516,
          0.5982060868903183,
          2.087688344690327,
          1.0883724836357984,
          0.09041698736275994,
          0.2794833808057582,
          2.228132441093329,
          -0.20597011828910228,
          1.0732410666679473,
          0.40183442309315476,
          1.8639028580160462,
          -0.8225982885930636,
          -0.7564346412230032,
          0.1733507738216351,
          1.5307415820202777,
          -0.49262159379101766,
          -1.0435789129384632,
          3.16242936253919,
          0.380049799243118,
          1.8960584908491116,
          -0.36099622742100257,
          1.1803183702596172,
          0.7438381576908903,
          -1.132256447364941,
          0.41351055635359957,
          2.179116895986376,
          0.9479625479438205,
          1.5964565375022204,
          -1.278491197984076,
          0.8498862087061544,
          -0.06915490780537614,
          -0.011227910258958085,
          0.21242980394499011,
          0.325093995143213,
          0.07466153835693634,
          1.7868936796138306,
          1.7291058797912162,
          0.2121882454123536,
          1.1203626760660608,
          0.05901402402940892,
          0.3493506361950338,
          2.319303003598783,
          1.0419194416110034,
          1.5504848812660956,
          0.6065391887508098,
          0.7963716095121098,
          1.069273091499633,
          1.2899690932991037,
          0.3474576860545301,
          2.5108821098338168,
          2.618175508176117,
          1.719302715473842,
          1.8707053304433536,
          0.7121637681720754,
          -0.40586393065215987,
          0.7066549473788626,
          0.8377065868159931,
          0.21922172986492405,
          1.5320292273815057,
          1.9288520169498478,
          1.0680789618344275,
          -0.10613787150459086,
          3.927567540243219,
          0.546926151008358,
          1.4300480252350862,
          1.5767142079302405,
          0.996440779680587
         ],
         "xbins": {
          "end": 4,
          "size": 0.2,
          "start": -1
         }
        }
       ],
       "layout": {
        "bargap": 0.2,
        "bargroupgap": 0.1,
        "template": {
         "data": {
          "bar": [
           {
            "error_x": {
             "color": "#2a3f5f"
            },
            "error_y": {
             "color": "#2a3f5f"
            },
            "marker": {
             "line": {
              "color": "#E5ECF6",
              "width": 0.5
             }
            },
            "type": "bar"
           }
          ],
          "barpolar": [
           {
            "marker": {
             "line": {
              "color": "#E5ECF6",
              "width": 0.5
             }
            },
            "type": "barpolar"
           }
          ],
          "carpet": [
           {
            "aaxis": {
             "endlinecolor": "#2a3f5f",
             "gridcolor": "white",
             "linecolor": "white",
             "minorgridcolor": "white",
             "startlinecolor": "#2a3f5f"
            },
            "baxis": {
             "endlinecolor": "#2a3f5f",
             "gridcolor": "white",
             "linecolor": "white",
             "minorgridcolor": "white",
             "startlinecolor": "#2a3f5f"
            },
            "type": "carpet"
           }
          ],
          "choropleth": [
           {
            "colorbar": {
             "outlinewidth": 0,
             "ticks": ""
            },
            "type": "choropleth"
           }
          ],
          "contour": [
           {
            "colorbar": {
             "outlinewidth": 0,
             "ticks": ""
            },
            "colorscale": [
             [
              0,
              "#0d0887"
             ],
             [
              0.1111111111111111,
              "#46039f"
             ],
             [
              0.2222222222222222,
              "#7201a8"
             ],
             [
              0.3333333333333333,
              "#9c179e"
             ],
             [
              0.4444444444444444,
              "#bd3786"
             ],
             [
              0.5555555555555556,
              "#d8576b"
             ],
             [
              0.6666666666666666,
              "#ed7953"
             ],
             [
              0.7777777777777778,
              "#fb9f3a"
             ],
             [
              0.8888888888888888,
              "#fdca26"
             ],
             [
              1,
              "#f0f921"
             ]
            ],
            "type": "contour"
           }
          ],
          "contourcarpet": [
           {
            "colorbar": {
             "outlinewidth": 0,
             "ticks": ""
            },
            "type": "contourcarpet"
           }
          ],
          "heatmap": [
           {
            "colorbar": {
             "outlinewidth": 0,
             "ticks": ""
            },
            "colorscale": [
             [
              0,
              "#0d0887"
             ],
             [
              0.1111111111111111,
              "#46039f"
             ],
             [
              0.2222222222222222,
              "#7201a8"
             ],
             [
              0.3333333333333333,
              "#9c179e"
             ],
             [
              0.4444444444444444,
              "#bd3786"
             ],
             [
              0.5555555555555556,
              "#d8576b"
             ],
             [
              0.6666666666666666,
              "#ed7953"
             ],
             [
              0.7777777777777778,
              "#fb9f3a"
             ],
             [
              0.8888888888888888,
              "#fdca26"
             ],
             [
              1,
              "#f0f921"
             ]
            ],
            "type": "heatmap"
           }
          ],
          "heatmapgl": [
           {
            "colorbar": {
             "outlinewidth": 0,
             "ticks": ""
            },
            "colorscale": [
             [
              0,
              "#0d0887"
             ],
             [
              0.1111111111111111,
              "#46039f"
             ],
             [
              0.2222222222222222,
              "#7201a8"
             ],
             [
              0.3333333333333333,
              "#9c179e"
             ],
             [
              0.4444444444444444,
              "#bd3786"
             ],
             [
              0.5555555555555556,
              "#d8576b"
             ],
             [
              0.6666666666666666,
              "#ed7953"
             ],
             [
              0.7777777777777778,
              "#fb9f3a"
             ],
             [
              0.8888888888888888,
              "#fdca26"
             ],
             [
              1,
              "#f0f921"
             ]
            ],
            "type": "heatmapgl"
           }
          ],
          "histogram": [
           {
            "marker": {
             "colorbar": {
              "outlinewidth": 0,
              "ticks": ""
             }
            },
            "type": "histogram"
           }
          ],
          "histogram2d": [
           {
            "colorbar": {
             "outlinewidth": 0,
             "ticks": ""
            },
            "colorscale": [
             [
              0,
              "#0d0887"
             ],
             [
              0.1111111111111111,
              "#46039f"
             ],
             [
              0.2222222222222222,
              "#7201a8"
             ],
             [
              0.3333333333333333,
              "#9c179e"
             ],
             [
              0.4444444444444444,
              "#bd3786"
             ],
             [
              0.5555555555555556,
              "#d8576b"
             ],
             [
              0.6666666666666666,
              "#ed7953"
             ],
             [
              0.7777777777777778,
              "#fb9f3a"
             ],
             [
              0.8888888888888888,
              "#fdca26"
             ],
             [
              1,
              "#f0f921"
             ]
            ],
            "type": "histogram2d"
           }
          ],
          "histogram2dcontour": [
           {
            "colorbar": {
             "outlinewidth": 0,
             "ticks": ""
            },
            "colorscale": [
             [
              0,
              "#0d0887"
             ],
             [
              0.1111111111111111,
              "#46039f"
             ],
             [
              0.2222222222222222,
              "#7201a8"
             ],
             [
              0.3333333333333333,
              "#9c179e"
             ],
             [
              0.4444444444444444,
              "#bd3786"
             ],
             [
              0.5555555555555556,
              "#d8576b"
             ],
             [
              0.6666666666666666,
              "#ed7953"
             ],
             [
              0.7777777777777778,
              "#fb9f3a"
             ],
             [
              0.8888888888888888,
              "#fdca26"
             ],
             [
              1,
              "#f0f921"
             ]
            ],
            "type": "histogram2dcontour"
           }
          ],
          "mesh3d": [
           {
            "colorbar": {
             "outlinewidth": 0,
             "ticks": ""
            },
            "type": "mesh3d"
           }
          ],
          "parcoords": [
           {
            "line": {
             "colorbar": {
              "outlinewidth": 0,
              "ticks": ""
             }
            },
            "type": "parcoords"
           }
          ],
          "pie": [
           {
            "automargin": true,
            "type": "pie"
           }
          ],
          "scatter": [
           {
            "marker": {
             "colorbar": {
              "outlinewidth": 0,
              "ticks": ""
             }
            },
            "type": "scatter"
           }
          ],
          "scatter3d": [
           {
            "line": {
             "colorbar": {
              "outlinewidth": 0,
              "ticks": ""
             }
            },
            "marker": {
             "colorbar": {
              "outlinewidth": 0,
              "ticks": ""
             }
            },
            "type": "scatter3d"
           }
          ],
          "scattercarpet": [
           {
            "marker": {
             "colorbar": {
              "outlinewidth": 0,
              "ticks": ""
             }
            },
            "type": "scattercarpet"
           }
          ],
          "scattergeo": [
           {
            "marker": {
             "colorbar": {
              "outlinewidth": 0,
              "ticks": ""
             }
            },
            "type": "scattergeo"
           }
          ],
          "scattergl": [
           {
            "marker": {
             "colorbar": {
              "outlinewidth": 0,
              "ticks": ""
             }
            },
            "type": "scattergl"
           }
          ],
          "scattermapbox": [
           {
            "marker": {
             "colorbar": {
              "outlinewidth": 0,
              "ticks": ""
             }
            },
            "type": "scattermapbox"
           }
          ],
          "scatterpolar": [
           {
            "marker": {
             "colorbar": {
              "outlinewidth": 0,
              "ticks": ""
             }
            },
            "type": "scatterpolar"
           }
          ],
          "scatterpolargl": [
           {
            "marker": {
             "colorbar": {
              "outlinewidth": 0,
              "ticks": ""
             }
            },
            "type": "scatterpolargl"
           }
          ],
          "scatterternary": [
           {
            "marker": {
             "colorbar": {
              "outlinewidth": 0,
              "ticks": ""
             }
            },
            "type": "scatterternary"
           }
          ],
          "surface": [
           {
            "colorbar": {
             "outlinewidth": 0,
             "ticks": ""
            },
            "colorscale": [
             [
              0,
              "#0d0887"
             ],
             [
              0.1111111111111111,
              "#46039f"
             ],
             [
              0.2222222222222222,
              "#7201a8"
             ],
             [
              0.3333333333333333,
              "#9c179e"
             ],
             [
              0.4444444444444444,
              "#bd3786"
             ],
             [
              0.5555555555555556,
              "#d8576b"
             ],
             [
              0.6666666666666666,
              "#ed7953"
             ],
             [
              0.7777777777777778,
              "#fb9f3a"
             ],
             [
              0.8888888888888888,
              "#fdca26"
             ],
             [
              1,
              "#f0f921"
             ]
            ],
            "type": "surface"
           }
          ],
          "table": [
           {
            "cells": {
             "fill": {
              "color": "#EBF0F8"
             },
             "line": {
              "color": "white"
             }
            },
            "header": {
             "fill": {
              "color": "#C8D4E3"
             },
             "line": {
              "color": "white"
             }
            },
            "type": "table"
           }
          ]
         },
         "layout": {
          "annotationdefaults": {
           "arrowcolor": "#2a3f5f",
           "arrowhead": 0,
           "arrowwidth": 1
          },
          "coloraxis": {
           "colorbar": {
            "outlinewidth": 0,
            "ticks": ""
           }
          },
          "colorscale": {
           "diverging": [
            [
             0,
             "#8e0152"
            ],
            [
             0.1,
             "#c51b7d"
            ],
            [
             0.2,
             "#de77ae"
            ],
            [
             0.3,
             "#f1b6da"
            ],
            [
             0.4,
             "#fde0ef"
            ],
            [
             0.5,
             "#f7f7f7"
            ],
            [
             0.6,
             "#e6f5d0"
            ],
            [
             0.7,
             "#b8e186"
            ],
            [
             0.8,
             "#7fbc41"
            ],
            [
             0.9,
             "#4d9221"
            ],
            [
             1,
             "#276419"
            ]
           ],
           "sequential": [
            [
             0,
             "#0d0887"
            ],
            [
             0.1111111111111111,
             "#46039f"
            ],
            [
             0.2222222222222222,
             "#7201a8"
            ],
            [
             0.3333333333333333,
             "#9c179e"
            ],
            [
             0.4444444444444444,
             "#bd3786"
            ],
            [
             0.5555555555555556,
             "#d8576b"
            ],
            [
             0.6666666666666666,
             "#ed7953"
            ],
            [
             0.7777777777777778,
             "#fb9f3a"
            ],
            [
             0.8888888888888888,
             "#fdca26"
            ],
            [
             1,
             "#f0f921"
            ]
           ],
           "sequentialminus": [
            [
             0,
             "#0d0887"
            ],
            [
             0.1111111111111111,
             "#46039f"
            ],
            [
             0.2222222222222222,
             "#7201a8"
            ],
            [
             0.3333333333333333,
             "#9c179e"
            ],
            [
             0.4444444444444444,
             "#bd3786"
            ],
            [
             0.5555555555555556,
             "#d8576b"
            ],
            [
             0.6666666666666666,
             "#ed7953"
            ],
            [
             0.7777777777777778,
             "#fb9f3a"
            ],
            [
             0.8888888888888888,
             "#fdca26"
            ],
            [
             1,
             "#f0f921"
            ]
           ]
          },
          "colorway": [
           "#636efa",
           "#EF553B",
           "#00cc96",
           "#ab63fa",
           "#FFA15A",
           "#19d3f3",
           "#FF6692",
           "#B6E880",
           "#FF97FF",
           "#FECB52"
          ],
          "font": {
           "color": "#2a3f5f"
          },
          "geo": {
           "bgcolor": "white",
           "lakecolor": "white",
           "landcolor": "#E5ECF6",
           "showlakes": true,
           "showland": true,
           "subunitcolor": "white"
          },
          "hoverlabel": {
           "align": "left"
          },
          "hovermode": "closest",
          "mapbox": {
           "style": "light"
          },
          "paper_bgcolor": "white",
          "plot_bgcolor": "#E5ECF6",
          "polar": {
           "angularaxis": {
            "gridcolor": "white",
            "linecolor": "white",
            "ticks": ""
           },
           "bgcolor": "#E5ECF6",
           "radialaxis": {
            "gridcolor": "white",
            "linecolor": "white",
            "ticks": ""
           }
          },
          "scene": {
           "xaxis": {
            "backgroundcolor": "#E5ECF6",
            "gridcolor": "white",
            "gridwidth": 2,
            "linecolor": "white",
            "showbackground": true,
            "ticks": "",
            "zerolinecolor": "white"
           },
           "yaxis": {
            "backgroundcolor": "#E5ECF6",
            "gridcolor": "white",
            "gridwidth": 2,
            "linecolor": "white",
            "showbackground": true,
            "ticks": "",
            "zerolinecolor": "white"
           },
           "zaxis": {
            "backgroundcolor": "#E5ECF6",
            "gridcolor": "white",
            "gridwidth": 2,
            "linecolor": "white",
            "showbackground": true,
            "ticks": "",
            "zerolinecolor": "white"
           }
          },
          "shapedefaults": {
           "line": {
            "color": "#2a3f5f"
           }
          },
          "ternary": {
           "aaxis": {
            "gridcolor": "white",
            "linecolor": "white",
            "ticks": ""
           },
           "baxis": {
            "gridcolor": "white",
            "linecolor": "white",
            "ticks": ""
           },
           "bgcolor": "#E5ECF6",
           "caxis": {
            "gridcolor": "white",
            "linecolor": "white",
            "ticks": ""
           }
          },
          "title": {
           "x": 0.05
          },
          "xaxis": {
           "automargin": true,
           "gridcolor": "white",
           "linecolor": "white",
           "ticks": "",
           "title": {
            "standoff": 15
           },
           "zerolinecolor": "white",
           "zerolinewidth": 2
          },
          "yaxis": {
           "automargin": true,
           "gridcolor": "white",
           "linecolor": "white",
           "ticks": "",
           "title": {
            "standoff": 15
           },
           "zerolinecolor": "white",
           "zerolinewidth": 2
          }
         }
        },
        "title": {
         "text": "Styled histograms"
        },
        "xaxis": {
         "title": {
          "text": "Value"
         }
        },
        "yaxis": {
         "title": {
          "text": "Count"
         }
        }
       }
      },
      "text/html": [
       "<div>\n",
       "        \n",
       "        \n",
       "            <div id=\"f4f22eda-6d3d-4c4b-9a06-bf52a3539078\" class=\"plotly-graph-div\" style=\"height:525px; width:100%;\"></div>\n",
       "            <script type=\"text/javascript\">\n",
       "                require([\"plotly\"], function(Plotly) {\n",
       "                    window.PLOTLYENV=window.PLOTLYENV || {};\n",
       "                    \n",
       "                if (document.getElementById(\"f4f22eda-6d3d-4c4b-9a06-bf52a3539078\")) {\n",
       "                    Plotly.newPlot(\n",
       "                        'f4f22eda-6d3d-4c4b-9a06-bf52a3539078',\n",
       "                        [{\"marker\": {\"color\": \"#D67D93\"}, \"name\": \"Series 1\", \"opacity\": 0.75, \"type\": \"histogram\", \"x\": [-0.2330520880666347, 1.7809280988980987, 0.386729846956203, -0.6452938350546283, 0.9619754209974907, -1.0965423346478962, 0.2758436362015186, -0.9592709230474459, -0.6011749484486376, -1.5087358034571947, -1.6048373360790493, 0.7230500148356308, -0.3204562793715935, -0.22454751784388954, -0.7053144111904651, 0.3480471032668824, 0.36973493506605315, -2.1837648097123417, -1.1569661205179018, 0.6377419806630267, 1.6566593751789922, 0.5066893212001656, 1.3770965279330594, -0.3691972369699191, -0.6302266653963726, -0.9364090753829843, 0.11724013811220674, -0.6373234065888944, 0.9066257624239484, -1.855045795014057, 0.4909987171959853, 1.3426592742425423, 2.207209876165524, -0.04991417902176783, 0.17242162934462182, 0.6587395681636992, 2.0097937189506876, -0.8738402369192123, -2.1253331008787595, -0.6855779913375452, -0.5529639310037594, 0.4395541177240411, 1.114756340435108, -1.8208000244565548, -0.06813356624020975, 0.2266324480007513, -0.9886792955704087, 0.5910287942369065, 0.24322464779701028, -0.42463521745698396, 0.22783338525933008, -2.1563698589013964, -0.07506764014769862, -0.4298393817511893, -0.3325170294548148, -1.7487795517985703, -1.3463726880424947, 0.3353349297249367, 0.6183860025513029, -0.6436368866910284, -0.5238539809831814, -3.4174047733533044, 0.4243968312600804, -0.7847551698072954, 1.7169218467913288, -0.7716604812266398, -1.5634437052553498, -0.6232371990901746, -0.9427632023231886, -0.24416370806533463, -0.12903116119127017, 1.0573588567604053, 0.9034003064071235, 0.9591742316150982, 0.2603243255810245, 0.7795490008183732, 0.5928828601922564, 0.2997057275530728, -1.0740812972681315, 0.8038589401734971, -0.8372967022664672, 0.46721882848574703, 0.7588747698778044, -0.6749101570694239, -1.2094873435606874, -0.632720073997067, 0.10949805007218628, 2.402267243733588, -1.1432221443883275, -0.18337833810650428, 0.407420986557238, -1.8521807055719783, -1.5558404845531073, 0.776112234980373, 0.005653200806782716, 0.2725690147387365, -1.0388526939567369, 0.17645395137518577, -0.7897894229271095, -0.8087685918236022, 0.49234453663665245, 0.14640391784905338, 1.1916500403040693, -0.41787788086166583, -0.3154605964318413, 0.6640446944787238, 1.886043053108819, 0.8917381455224255, 0.25981920228937644, -0.5206400482398034, -1.2046349189452894, -0.2585062531981329, -0.08023985882928182, -2.311289814027928, -1.2103498615497204, -0.42822192455226077, -0.3884825791768805, 0.5423530661987095, -0.5373697633233605, 0.7620820334087803, 0.5406491043320308, 0.8378325316275049, -1.9004207556609771, -1.434547791786427, 1.14277375157668, -1.2174230660720435, -1.1555525850957484, 0.5369315913632414, -0.9799243088255098, -0.7443508033937041, 2.049118001058428, -1.3304139601045137, 0.7471495138704684, 1.429317658142207, 0.23846985125984274, 1.0580684315952011, -1.046376586598719, 0.49530127523851597, 0.6584042202113383, -0.24529609592599497, -2.0735288858365575, 2.4835478199971432, 1.341290471022903, 0.343132913220071, -1.3370290542617866, -0.8103876799823724, -1.905008751505316, 0.23751912657757998, 0.5876602078057227, -0.7722442092203005, 0.07671321537459823, -0.4989717341769835, 0.3028077664248009, 0.2664892689562195, 0.8364581634053334, 0.9743542288868133, -0.49068447190292797, 1.3000607452323407, -0.4656706711247641, 0.6469499051216415, -1.070021387940171, -0.401932177241318, 0.6012337926828463, 0.546410602474664, -2.6143324505499876, -0.897253719389229, 0.5328938445199789, 0.01601504374546235, 1.2034888142085607, 0.7311131817787674, 0.3389856227544597, -2.168064711432411, 0.2791483769213026, 0.6040263686401858, -0.16536385169485626, 0.7281183455866364, 0.010326724207704347, 0.12383329963722646, 0.9171642100691747, 0.07551321520709259, 1.2400735105344525, -2.2614823487502385, 0.3312163253663673, 1.39439725803629, 1.3670254909135833, 0.4033638204271883, -2.4622442615164646, -1.2661939174563825, -1.5224750545606842, -0.31698863123244075, -0.8337018521322931, -0.47873601604572447, 0.8922307098603925, -0.4878156817883008, -0.6371627753779541, -0.3580353160126231, 0.6340866326575649, -0.4982324733256817, 1.086653002186653, -0.3465366499946151], \"xbins\": {\"end\": 4, \"size\": 0.5, \"start\": -4}}, {\"marker\": {\"color\": \"#7DAED6\"}, \"name\": \"Series 2\", \"opacity\": 0.75, \"type\": \"histogram\", \"x\": [1.9286397827978567, 1.548502538688446, 1.5760822010415079, 1.0630250839829822, 0.37870197054005905, 0.784694380418184, 1.1638918245919103, 0.7595113214583231, 0.5261548268555749, 0.7942145414687044, 0.3849246357130677, 1.6957392143963048, 1.22421536076506, -0.2566709632529909, 0.8492164540235017, 0.6036472987874597, 2.0828471940945072, 1.962684807583363, 1.1456995943705115, 1.4132716798487923, 1.1676903851067102, 0.47146433927896203, 0.06770253036197393, 1.4334673175042982, 0.27362848528540307, 2.1078563168012607, 3.504007543338746, 1.3333115099482216, -1.3771751911768795, -0.6402019092380431, 2.790697467840392, 0.7361474549383651, 2.01699518526156, 1.3864214393486516, 0.5982060868903183, 2.087688344690327, 1.0883724836357984, 0.09041698736275994, 0.2794833808057582, 2.228132441093329, -0.20597011828910228, 1.0732410666679473, 0.40183442309315476, 1.8639028580160462, -0.8225982885930636, -0.7564346412230032, 0.1733507738216351, 1.5307415820202777, -0.49262159379101766, -1.0435789129384632, 3.16242936253919, 0.380049799243118, 1.8960584908491116, -0.36099622742100257, 1.1803183702596172, 0.7438381576908903, -1.132256447364941, 0.41351055635359957, 2.179116895986376, 0.9479625479438205, 1.5964565375022204, -1.278491197984076, 0.8498862087061544, -0.06915490780537614, -0.011227910258958085, 0.21242980394499011, 0.325093995143213, 0.07466153835693634, 1.7868936796138306, 1.7291058797912162, 0.2121882454123536, 1.1203626760660608, 0.05901402402940892, 0.3493506361950338, 2.319303003598783, 1.0419194416110034, 1.5504848812660956, 0.6065391887508098, 0.7963716095121098, 1.069273091499633, 1.2899690932991037, 0.3474576860545301, 2.5108821098338168, 2.618175508176117, 1.719302715473842, 1.8707053304433536, 0.7121637681720754, -0.40586393065215987, 0.7066549473788626, 0.8377065868159931, 0.21922172986492405, 1.5320292273815057, 1.9288520169498478, 1.0680789618344275, -0.10613787150459086, 3.927567540243219, 0.546926151008358, 1.4300480252350862, 1.5767142079302405, 0.996440779680587], \"xbins\": {\"end\": 4, \"size\": 0.2, \"start\": -1}}],\n",
       "                        {\"bargap\": 0.2, \"bargroupgap\": 0.1, \"template\": {\"data\": {\"bar\": [{\"error_x\": {\"color\": \"#2a3f5f\"}, \"error_y\": {\"color\": \"#2a3f5f\"}, \"marker\": {\"line\": {\"color\": \"#E5ECF6\", \"width\": 0.5}}, \"type\": \"bar\"}], \"barpolar\": [{\"marker\": {\"line\": {\"color\": \"#E5ECF6\", \"width\": 0.5}}, \"type\": \"barpolar\"}], \"carpet\": [{\"aaxis\": {\"endlinecolor\": \"#2a3f5f\", \"gridcolor\": \"white\", \"linecolor\": \"white\", \"minorgridcolor\": \"white\", \"startlinecolor\": \"#2a3f5f\"}, \"baxis\": {\"endlinecolor\": \"#2a3f5f\", \"gridcolor\": \"white\", \"linecolor\": \"white\", \"minorgridcolor\": \"white\", \"startlinecolor\": \"#2a3f5f\"}, \"type\": \"carpet\"}], \"choropleth\": [{\"colorbar\": {\"outlinewidth\": 0, \"ticks\": \"\"}, \"type\": \"choropleth\"}], \"contour\": [{\"colorbar\": {\"outlinewidth\": 0, \"ticks\": \"\"}, \"colorscale\": [[0.0, \"#0d0887\"], [0.1111111111111111, \"#46039f\"], [0.2222222222222222, \"#7201a8\"], [0.3333333333333333, \"#9c179e\"], [0.4444444444444444, \"#bd3786\"], [0.5555555555555556, \"#d8576b\"], [0.6666666666666666, \"#ed7953\"], [0.7777777777777778, \"#fb9f3a\"], [0.8888888888888888, \"#fdca26\"], [1.0, \"#f0f921\"]], \"type\": \"contour\"}], \"contourcarpet\": [{\"colorbar\": {\"outlinewidth\": 0, \"ticks\": \"\"}, \"type\": \"contourcarpet\"}], \"heatmap\": [{\"colorbar\": {\"outlinewidth\": 0, \"ticks\": \"\"}, \"colorscale\": [[0.0, \"#0d0887\"], [0.1111111111111111, \"#46039f\"], [0.2222222222222222, \"#7201a8\"], [0.3333333333333333, \"#9c179e\"], [0.4444444444444444, \"#bd3786\"], [0.5555555555555556, \"#d8576b\"], [0.6666666666666666, \"#ed7953\"], [0.7777777777777778, \"#fb9f3a\"], [0.8888888888888888, \"#fdca26\"], [1.0, \"#f0f921\"]], \"type\": \"heatmap\"}], \"heatmapgl\": [{\"colorbar\": {\"outlinewidth\": 0, \"ticks\": \"\"}, \"colorscale\": [[0.0, \"#0d0887\"], [0.1111111111111111, \"#46039f\"], [0.2222222222222222, \"#7201a8\"], [0.3333333333333333, \"#9c179e\"], [0.4444444444444444, \"#bd3786\"], [0.5555555555555556, \"#d8576b\"], [0.6666666666666666, \"#ed7953\"], [0.7777777777777778, \"#fb9f3a\"], [0.8888888888888888, \"#fdca26\"], [1.0, \"#f0f921\"]], \"type\": \"heatmapgl\"}], \"histogram\": [{\"marker\": {\"colorbar\": {\"outlinewidth\": 0, \"ticks\": \"\"}}, \"type\": \"histogram\"}], \"histogram2d\": [{\"colorbar\": {\"outlinewidth\": 0, \"ticks\": \"\"}, \"colorscale\": [[0.0, \"#0d0887\"], [0.1111111111111111, \"#46039f\"], [0.2222222222222222, \"#7201a8\"], [0.3333333333333333, \"#9c179e\"], [0.4444444444444444, \"#bd3786\"], [0.5555555555555556, \"#d8576b\"], [0.6666666666666666, \"#ed7953\"], [0.7777777777777778, \"#fb9f3a\"], [0.8888888888888888, \"#fdca26\"], [1.0, \"#f0f921\"]], \"type\": \"histogram2d\"}], \"histogram2dcontour\": [{\"colorbar\": {\"outlinewidth\": 0, \"ticks\": \"\"}, \"colorscale\": [[0.0, \"#0d0887\"], [0.1111111111111111, \"#46039f\"], [0.2222222222222222, \"#7201a8\"], [0.3333333333333333, \"#9c179e\"], [0.4444444444444444, \"#bd3786\"], [0.5555555555555556, \"#d8576b\"], [0.6666666666666666, \"#ed7953\"], [0.7777777777777778, \"#fb9f3a\"], [0.8888888888888888, \"#fdca26\"], [1.0, \"#f0f921\"]], \"type\": \"histogram2dcontour\"}], \"mesh3d\": [{\"colorbar\": {\"outlinewidth\": 0, \"ticks\": \"\"}, \"type\": \"mesh3d\"}], \"parcoords\": [{\"line\": {\"colorbar\": {\"outlinewidth\": 0, \"ticks\": \"\"}}, \"type\": \"parcoords\"}], \"pie\": [{\"automargin\": true, \"type\": \"pie\"}], \"scatter\": [{\"marker\": {\"colorbar\": {\"outlinewidth\": 0, \"ticks\": \"\"}}, \"type\": \"scatter\"}], \"scatter3d\": [{\"line\": {\"colorbar\": {\"outlinewidth\": 0, \"ticks\": \"\"}}, \"marker\": {\"colorbar\": {\"outlinewidth\": 0, \"ticks\": \"\"}}, \"type\": \"scatter3d\"}], \"scattercarpet\": [{\"marker\": {\"colorbar\": {\"outlinewidth\": 0, \"ticks\": \"\"}}, \"type\": \"scattercarpet\"}], \"scattergeo\": [{\"marker\": {\"colorbar\": {\"outlinewidth\": 0, \"ticks\": \"\"}}, \"type\": \"scattergeo\"}], \"scattergl\": [{\"marker\": {\"colorbar\": {\"outlinewidth\": 0, \"ticks\": \"\"}}, \"type\": \"scattergl\"}], \"scattermapbox\": [{\"marker\": {\"colorbar\": {\"outlinewidth\": 0, \"ticks\": \"\"}}, \"type\": \"scattermapbox\"}], \"scatterpolar\": [{\"marker\": {\"colorbar\": {\"outlinewidth\": 0, \"ticks\": \"\"}}, \"type\": \"scatterpolar\"}], \"scatterpolargl\": [{\"marker\": {\"colorbar\": {\"outlinewidth\": 0, \"ticks\": \"\"}}, \"type\": \"scatterpolargl\"}], \"scatterternary\": [{\"marker\": {\"colorbar\": {\"outlinewidth\": 0, \"ticks\": \"\"}}, \"type\": \"scatterternary\"}], \"surface\": [{\"colorbar\": {\"outlinewidth\": 0, \"ticks\": \"\"}, \"colorscale\": [[0.0, \"#0d0887\"], [0.1111111111111111, \"#46039f\"], [0.2222222222222222, \"#7201a8\"], [0.3333333333333333, \"#9c179e\"], [0.4444444444444444, \"#bd3786\"], [0.5555555555555556, \"#d8576b\"], [0.6666666666666666, \"#ed7953\"], [0.7777777777777778, \"#fb9f3a\"], [0.8888888888888888, \"#fdca26\"], [1.0, \"#f0f921\"]], \"type\": \"surface\"}], \"table\": [{\"cells\": {\"fill\": {\"color\": \"#EBF0F8\"}, \"line\": {\"color\": \"white\"}}, \"header\": {\"fill\": {\"color\": \"#C8D4E3\"}, \"line\": {\"color\": \"white\"}}, \"type\": \"table\"}]}, \"layout\": {\"annotationdefaults\": {\"arrowcolor\": \"#2a3f5f\", \"arrowhead\": 0, \"arrowwidth\": 1}, \"coloraxis\": {\"colorbar\": {\"outlinewidth\": 0, \"ticks\": \"\"}}, \"colorscale\": {\"diverging\": [[0, \"#8e0152\"], [0.1, \"#c51b7d\"], [0.2, \"#de77ae\"], [0.3, \"#f1b6da\"], [0.4, \"#fde0ef\"], [0.5, \"#f7f7f7\"], [0.6, \"#e6f5d0\"], [0.7, \"#b8e186\"], [0.8, \"#7fbc41\"], [0.9, \"#4d9221\"], [1, \"#276419\"]], \"sequential\": [[0.0, \"#0d0887\"], [0.1111111111111111, \"#46039f\"], [0.2222222222222222, \"#7201a8\"], [0.3333333333333333, \"#9c179e\"], [0.4444444444444444, \"#bd3786\"], [0.5555555555555556, \"#d8576b\"], [0.6666666666666666, \"#ed7953\"], [0.7777777777777778, \"#fb9f3a\"], [0.8888888888888888, \"#fdca26\"], [1.0, \"#f0f921\"]], \"sequentialminus\": [[0.0, \"#0d0887\"], [0.1111111111111111, \"#46039f\"], [0.2222222222222222, \"#7201a8\"], [0.3333333333333333, \"#9c179e\"], [0.4444444444444444, \"#bd3786\"], [0.5555555555555556, \"#d8576b\"], [0.6666666666666666, \"#ed7953\"], [0.7777777777777778, \"#fb9f3a\"], [0.8888888888888888, \"#fdca26\"], [1.0, \"#f0f921\"]]}, \"colorway\": [\"#636efa\", \"#EF553B\", \"#00cc96\", \"#ab63fa\", \"#FFA15A\", \"#19d3f3\", \"#FF6692\", \"#B6E880\", \"#FF97FF\", \"#FECB52\"], \"font\": {\"color\": \"#2a3f5f\"}, \"geo\": {\"bgcolor\": \"white\", \"lakecolor\": \"white\", \"landcolor\": \"#E5ECF6\", \"showlakes\": true, \"showland\": true, \"subunitcolor\": \"white\"}, \"hoverlabel\": {\"align\": \"left\"}, \"hovermode\": \"closest\", \"mapbox\": {\"style\": \"light\"}, \"paper_bgcolor\": \"white\", \"plot_bgcolor\": \"#E5ECF6\", \"polar\": {\"angularaxis\": {\"gridcolor\": \"white\", \"linecolor\": \"white\", \"ticks\": \"\"}, \"bgcolor\": \"#E5ECF6\", \"radialaxis\": {\"gridcolor\": \"white\", \"linecolor\": \"white\", \"ticks\": \"\"}}, \"scene\": {\"xaxis\": {\"backgroundcolor\": \"#E5ECF6\", \"gridcolor\": \"white\", \"gridwidth\": 2, \"linecolor\": \"white\", \"showbackground\": true, \"ticks\": \"\", \"zerolinecolor\": \"white\"}, \"yaxis\": {\"backgroundcolor\": \"#E5ECF6\", \"gridcolor\": \"white\", \"gridwidth\": 2, \"linecolor\": \"white\", \"showbackground\": true, \"ticks\": \"\", \"zerolinecolor\": \"white\"}, \"zaxis\": {\"backgroundcolor\": \"#E5ECF6\", \"gridcolor\": \"white\", \"gridwidth\": 2, \"linecolor\": \"white\", \"showbackground\": true, \"ticks\": \"\", \"zerolinecolor\": \"white\"}}, \"shapedefaults\": {\"line\": {\"color\": \"#2a3f5f\"}}, \"ternary\": {\"aaxis\": {\"gridcolor\": \"white\", \"linecolor\": \"white\", \"ticks\": \"\"}, \"baxis\": {\"gridcolor\": \"white\", \"linecolor\": \"white\", \"ticks\": \"\"}, \"bgcolor\": \"#E5ECF6\", \"caxis\": {\"gridcolor\": \"white\", \"linecolor\": \"white\", \"ticks\": \"\"}}, \"title\": {\"x\": 0.05}, \"xaxis\": {\"automargin\": true, \"gridcolor\": \"white\", \"linecolor\": \"white\", \"ticks\": \"\", \"title\": {\"standoff\": 15}, \"zerolinecolor\": \"white\", \"zerolinewidth\": 2}, \"yaxis\": {\"automargin\": true, \"gridcolor\": \"white\", \"linecolor\": \"white\", \"ticks\": \"\", \"title\": {\"standoff\": 15}, \"zerolinecolor\": \"white\", \"zerolinewidth\": 2}}}, \"title\": {\"text\": \"Styled histograms\"}, \"xaxis\": {\"title\": {\"text\": \"Value\"}}, \"yaxis\": {\"title\": {\"text\": \"Count\"}}},\n",
       "                        {\"responsive\": true}\n",
       "                    ).then(function(){\n",
       "                            \n",
       "var gd = document.getElementById('f4f22eda-6d3d-4c4b-9a06-bf52a3539078');\n",
       "var x = new MutationObserver(function (mutations, observer) {{\n",
       "        var display = window.getComputedStyle(gd).display;\n",
       "        if (!display || display === 'none') {{\n",
       "            console.log([gd, 'removed!']);\n",
       "            Plotly.purge(gd);\n",
       "            observer.disconnect();\n",
       "        }}\n",
       "}});\n",
       "\n",
       "// Listen for the removal of the full notebook cells\n",
       "var notebookContainer = gd.closest('#notebook-container');\n",
       "if (notebookContainer) {{\n",
       "    x.observe(notebookContainer, {childList: true});\n",
       "}}\n",
       "\n",
       "// Listen for the clearing of the current output cell\n",
       "var outputEl = gd.closest('.output');\n",
       "if (outputEl) {{\n",
       "    x.observe(outputEl, {childList: true});\n",
       "}}\n",
       "\n",
       "                        })\n",
       "                };\n",
       "                });\n",
       "            </script>\n",
       "        </div>"
      ]
     },
     "metadata": {},
     "output_type": "display_data"
    }
   ],
   "source": [
    "fig = go.Figure(data=data, \n",
    "                layout=layout)\n",
    "\n",
    "offline.iplot(fig)"
   ]
  },
  {
   "cell_type": "markdown",
   "metadata": {},
   "source": []
  }
 ],
 "metadata": {
  "kernelspec": {
   "display_name": "Python 3",
   "language": "python",
   "name": "python3"
  },
  "language_info": {
   "codemirror_mode": {
    "name": "ipython",
    "version": 3
   },
   "file_extension": ".py",
   "mimetype": "text/x-python",
   "name": "python",
   "nbconvert_exporter": "python",
   "pygments_lexer": "ipython3",
   "version": "3.8.3"
  }
 },
 "nbformat": 4,
 "nbformat_minor": 2
}
