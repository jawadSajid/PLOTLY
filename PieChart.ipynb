{
 "cells": [
  {
   "cell_type": "code",
   "execution_count": 2,
   "metadata": {},
   "outputs": [],
   "source": [
    "import plotly.graph_objs as go\n",
    "import plotly.offline as offline"
   ]
  },
  {
   "cell_type": "markdown",
   "metadata": {},
   "source": [
    "#### Create a list of all the continents\n",
    "We don't consider Antarctica here"
   ]
  },
  {
   "cell_type": "code",
   "execution_count": 3,
   "metadata": {},
   "outputs": [],
   "source": [
    "continents = ['Asia', \n",
    "              'Africa', \n",
    "              'Europe', \n",
    "              'North America', \n",
    "              'Oceania', \n",
    "              'South America']"
   ]
  },
  {
   "cell_type": "markdown",
   "metadata": {},
   "source": [
    "#### A list of the population for each continent (in millions)"
   ]
  },
  {
   "cell_type": "code",
   "execution_count": 4,
   "metadata": {},
   "outputs": [],
   "source": [
    "populations = [4436, 1216, 739, 579, 40, 423]"
   ]
  },
  {
   "cell_type": "markdown",
   "metadata": {},
   "source": [
    "#### A simple pie chart\n",
    "We only need to supply the labels and values needed for the plot"
   ]
  },
  {
   "cell_type": "code",
   "execution_count": 5,
   "metadata": {},
   "outputs": [],
   "source": [
    "trace = go.Pie(labels = continents, \n",
    "               values = populations,\n",
    "              )"
   ]
  },
  {
   "cell_type": "markdown",
   "metadata": {},
   "source": [
    "#### Plot the pie chart\n",
    "* The color for each wedge will be picked from a default color palette\n",
    "* The percentage for each wedge is displayed by default\n",
    "* For wedges representing a very tiny value, Plotly is smart enough to place the text outside\n",
    "* A legend appears by default"
   ]
  },
  {
   "cell_type": "code",
   "execution_count": 6,
   "metadata": {},
   "outputs": [
    {
     "data": {
      "text/plain": [
       "'temp-plot.html'"
      ]
     },
     "execution_count": 6,
     "metadata": {},
     "output_type": "execute_result"
    }
   ],
   "source": [
    "data = [trace]\n",
    "\n",
    "offline.plot(data)"
   ]
  },
  {
   "cell_type": "markdown",
   "metadata": {},
   "source": [
    "### Styled Pie Chart\n",
    "We can customize the pie chart by formatting the wedges and the text displayed"
   ]
  },
  {
   "cell_type": "markdown",
   "metadata": {},
   "source": [
    "#### Create a list of colors\n",
    "These will be used to represent the different continents on the chart"
   ]
  },
  {
   "cell_type": "code",
   "execution_count": 8,
   "metadata": {},
   "outputs": [],
   "source": [
    "colors = ['burlywood', 'silver', 'olive', 'skyblue', 'violet', 'crimson' ]"
   ]
  },
  {
   "cell_type": "markdown",
   "metadata": {},
   "source": [
    "#### Define the pie chart\n",
    "* we set the hoverinfo to show the wedge label along with the percentage value for the sector\n",
    "* we explicitly set the text inside the wedge to display value (can also be 'percent', 'label' or a combination)\n",
    "* the font for the displayed text can be formatted\n",
    "* marker represents the wedges of the pie chart. We configure it to:\n",
    " * use the list of colors we defined\n",
    " * use a dark grey line at the boundaries\n",
    " * set the width of the boundary line\n",
    "* the value of hole will create a hole in the pie chart. The value can be between 0 and 1 and represents the width of the hole relative to the whole pie"
   ]
  },
  {
   "cell_type": "code",
   "execution_count": 9,
   "metadata": {},
   "outputs": [],
   "source": [
    "trace = go.Pie(labels = continents, \n",
    "               values = populations,\n",
    "               \n",
    "               hoverinfo = 'label+percent', \n",
    "               \n",
    "               textinfo = 'value', \n",
    "               textfont = dict(size = 20),\n",
    "               \n",
    "               marker = dict(colors = colors,\n",
    "                             line = dict(color = 'dimgrey', \n",
    "                                         width = 2)\n",
    "                            ), \n",
    "               hole = 0.4\n",
    "              )"
   ]
  },
  {
   "cell_type": "code",
   "execution_count": 10,
   "metadata": {},
   "outputs": [
    {
     "data": {
      "text/plain": [
       "'temp-plot.html'"
      ]
     },
     "execution_count": 10,
     "metadata": {},
     "output_type": "execute_result"
    }
   ],
   "source": [
    "data = [trace]\n",
    "\n",
    "offline.plot(data)"
   ]
  },
  {
   "cell_type": "code",
   "execution_count": null,
   "metadata": {
    "collapsed": true
   },
   "outputs": [],
   "source": []
  }
 ],
 "metadata": {
  "kernelspec": {
   "display_name": "Python 3",
   "language": "python",
   "name": "python3"
  },
  "language_info": {
   "codemirror_mode": {
    "name": "ipython",
    "version": 3
   },
   "file_extension": ".py",
   "mimetype": "text/x-python",
   "name": "python",
   "nbconvert_exporter": "python",
   "pygments_lexer": "ipython3",
   "version": "3.8.3"
  }
 },
 "nbformat": 4,
 "nbformat_minor": 2
}
